{
 "cells": [
  {
   "cell_type": "markdown",
   "metadata": {},
   "source": [
    "# Logistic Regression"
   ]
  },
  {
   "cell_type": "code",
   "execution_count": 6,
   "metadata": {},
   "outputs": [],
   "source": [
    "fake <- read.csv(\"fakeTrainData1bB.csv\")\n",
    "real <- read.csv(\"realTrainData1bB.csv\")\n",
    "df <- rbind(fake, real)"
   ]
  },
  {
   "cell_type": "code",
   "execution_count": 7,
   "metadata": {},
   "outputs": [],
   "source": [
    "test <- read.csv(\"testData1bB.csv\")\n",
    "testFake <- subset(test, test$realFAKEcat==\"fake\")\n",
    "testReal <- subset(test, test$realFAKEcat==\"real\")"
   ]
  },
  {
   "cell_type": "code",
   "execution_count": 3,
   "metadata": {},
   "outputs": [],
   "source": [
    "testFake0 <- testFake\n",
    "testReal0 <- testReal"
   ]
  },
  {
   "cell_type": "code",
   "execution_count": 4,
   "metadata": {},
   "outputs": [
    {
     "ename": "ERROR",
     "evalue": "Error in `$<-.data.frame`(`*tmp*`, last, value = 0): replacement has 1 row, data has 0\n",
     "output_type": "error",
     "traceback": [
      "Error in `$<-.data.frame`(`*tmp*`, last, value = 0): replacement has 1 row, data has 0\nTraceback:\n",
      "1. `$<-`(`*tmp*`, last, value = 0)",
      "2. `$<-.data.frame`(`*tmp*`, last, value = 0)",
      "3. stop(sprintf(ngettext(N, \"replacement has %d row, data has %d\", \n .     \"replacement has %d rows, data has %d\"), N, nrows), domain = NA)"
     ]
    }
   ],
   "source": [
    "testFake0$last <- as.numeric(0)\n",
    "testReal0$last <- as.numeric(1)\n",
    "test0 <- rbind(testFake0, testReal0)"
   ]
  },
  {
   "cell_type": "code",
   "execution_count": 8,
   "metadata": {},
   "outputs": [
    {
     "data": {
      "text/plain": [
       "\n",
       "Call:\n",
       "glm(formula = df0$last ~ ., family = \"binomial\", data = df0[, \n",
       "    -c(1, 12)])\n",
       "\n",
       "Deviance Residuals: \n",
       "    Min       1Q   Median       3Q      Max  \n",
       "-1.7945  -1.1902  -0.1589   1.1413   3.2389  \n",
       "\n",
       "Coefficients:\n",
       "              Estimate Std. Error z value Pr(>|z|)    \n",
       "(Intercept)   0.135975   0.005054  26.904  < 2e-16 ***\n",
       "trust         0.104722   0.004910  21.329  < 2e-16 ***\n",
       "fear         -0.069816   0.006482 -10.771  < 2e-16 ***\n",
       "negative      0.041550   0.005573   7.456 8.94e-14 ***\n",
       "sadness      -0.020893   0.007205  -2.900  0.00373 ** \n",
       "anger         0.154127   0.007238  21.294  < 2e-16 ***\n",
       "surprise     -0.100486   0.007082 -14.189  < 2e-16 ***\n",
       "positive     -0.383999   0.004500 -85.336  < 2e-16 ***\n",
       "disgust       0.145282   0.008057  18.031  < 2e-16 ***\n",
       "joy           0.331084   0.006257  52.916  < 2e-16 ***\n",
       "anticipation -0.022097   0.005231  -4.224 2.40e-05 ***\n",
       "---\n",
       "Signif. codes:  0 ‘***’ 0.001 ‘**’ 0.01 ‘*’ 0.05 ‘.’ 0.1 ‘ ’ 1\n",
       "\n",
       "(Dispersion parameter for binomial family taken to be 1)\n",
       "\n",
       "    Null deviance: 693147  on 499999  degrees of freedom\n",
       "Residual deviance: 682737  on 499989  degrees of freedom\n",
       "AIC: 682759\n",
       "\n",
       "Number of Fisher Scoring iterations: 4\n"
      ]
     },
     "metadata": {},
     "output_type": "display_data"
    },
    {
     "data": {
      "text/html": [
       "<table>\n",
       "<thead><tr><th></th><th scope=col>Df</th><th scope=col>Deviance</th><th scope=col>Resid. Df</th><th scope=col>Resid. Dev</th><th scope=col>Pr(&gt;Chi)</th></tr></thead>\n",
       "<tbody>\n",
       "\t<tr><th scope=row>NULL</th><td>NA           </td><td>        NA   </td><td>499999       </td><td>693147.2     </td><td>           NA</td></tr>\n",
       "\t<tr><th scope=row>trust</th><td> 1           </td><td>  45.84150   </td><td>499998       </td><td>693101.3     </td><td> 1.282183e-11</td></tr>\n",
       "\t<tr><th scope=row>fear</th><td> 1           </td><td> 258.06730   </td><td>499997       </td><td>692843.3     </td><td> 4.526928e-58</td></tr>\n",
       "\t<tr><th scope=row>negative</th><td> 1           </td><td>1179.99503   </td><td>499996       </td><td>691663.3     </td><td>1.358212e-258</td></tr>\n",
       "\t<tr><th scope=row>sadness</th><td> 1           </td><td>   6.10955   </td><td>499995       </td><td>691657.2     </td><td> 1.344533e-02</td></tr>\n",
       "\t<tr><th scope=row>anger</th><td> 1           </td><td> 686.86973   </td><td>499994       </td><td>690970.3     </td><td>2.142920e-151</td></tr>\n",
       "\t<tr><th scope=row>surprise</th><td> 1           </td><td>  79.65499   </td><td>499993       </td><td>690890.6     </td><td> 4.458428e-19</td></tr>\n",
       "\t<tr><th scope=row>positive</th><td> 1           </td><td>4811.44011   </td><td>499992       </td><td>686079.2     </td><td> 0.000000e+00</td></tr>\n",
       "\t<tr><th scope=row>disgust</th><td> 1           </td><td> 335.90882   </td><td>499991       </td><td>685743.3     </td><td> 4.964460e-75</td></tr>\n",
       "\t<tr><th scope=row>joy</th><td> 1           </td><td>2988.16295   </td><td>499990       </td><td>682755.1     </td><td> 0.000000e+00</td></tr>\n",
       "\t<tr><th scope=row>anticipation</th><td> 1           </td><td>  17.84846   </td><td>499989       </td><td>682737.3     </td><td> 2.392123e-05</td></tr>\n",
       "</tbody>\n",
       "</table>\n"
      ],
      "text/latex": [
       "\\begin{tabular}{r|lllll}\n",
       "  & Df & Deviance & Resid. Df & Resid. Dev & Pr(>Chi)\\\\\n",
       "\\hline\n",
       "\tNULL & NA            &         NA    & 499999        & 693147.2      &            NA\\\\\n",
       "\ttrust &  1            &   45.84150    & 499998        & 693101.3      &  1.282183e-11\\\\\n",
       "\tfear &  1            &  258.06730    & 499997        & 692843.3      &  4.526928e-58\\\\\n",
       "\tnegative &  1            & 1179.99503    & 499996        & 691663.3      & 1.358212e-258\\\\\n",
       "\tsadness &  1            &    6.10955    & 499995        & 691657.2      &  1.344533e-02\\\\\n",
       "\tanger &  1            &  686.86973    & 499994        & 690970.3      & 2.142920e-151\\\\\n",
       "\tsurprise &  1            &   79.65499    & 499993        & 690890.6      &  4.458428e-19\\\\\n",
       "\tpositive &  1            & 4811.44011    & 499992        & 686079.2      &  0.000000e+00\\\\\n",
       "\tdisgust &  1            &  335.90882    & 499991        & 685743.3      &  4.964460e-75\\\\\n",
       "\tjoy &  1            & 2988.16295    & 499990        & 682755.1      &  0.000000e+00\\\\\n",
       "\tanticipation &  1            &   17.84846    & 499989        & 682737.3      &  2.392123e-05\\\\\n",
       "\\end{tabular}\n"
      ],
      "text/markdown": [
       "\n",
       "| <!--/--> | Df | Deviance | Resid. Df | Resid. Dev | Pr(>Chi) | \n",
       "|---|---|---|---|---|---|---|---|---|---|---|\n",
       "| NULL | NA            |         NA    | 499999        | 693147.2      |            NA | \n",
       "| trust |  1            |   45.84150    | 499998        | 693101.3      |  1.282183e-11 | \n",
       "| fear |  1            |  258.06730    | 499997        | 692843.3      |  4.526928e-58 | \n",
       "| negative |  1            | 1179.99503    | 499996        | 691663.3      | 1.358212e-258 | \n",
       "| sadness |  1            |    6.10955    | 499995        | 691657.2      |  1.344533e-02 | \n",
       "| anger |  1            |  686.86973    | 499994        | 690970.3      | 2.142920e-151 | \n",
       "| surprise |  1            |   79.65499    | 499993        | 690890.6      |  4.458428e-19 | \n",
       "| positive |  1            | 4811.44011    | 499992        | 686079.2      |  0.000000e+00 | \n",
       "| disgust |  1            |  335.90882    | 499991        | 685743.3      |  4.964460e-75 | \n",
       "| joy |  1            | 2988.16295    | 499990        | 682755.1      |  0.000000e+00 | \n",
       "| anticipation |  1            |   17.84846    | 499989        | 682737.3      |  2.392123e-05 | \n",
       "\n",
       "\n"
      ],
      "text/plain": [
       "             Df Deviance   Resid. Df Resid. Dev Pr(>Chi)     \n",
       "NULL         NA         NA 499999    693147.2              NA\n",
       "trust         1   45.84150 499998    693101.3    1.282183e-11\n",
       "fear          1  258.06730 499997    692843.3    4.526928e-58\n",
       "negative      1 1179.99503 499996    691663.3   1.358212e-258\n",
       "sadness       1    6.10955 499995    691657.2    1.344533e-02\n",
       "anger         1  686.86973 499994    690970.3   2.142920e-151\n",
       "surprise      1   79.65499 499993    690890.6    4.458428e-19\n",
       "positive      1 4811.44011 499992    686079.2    0.000000e+00\n",
       "disgust       1  335.90882 499991    685743.3    4.964460e-75\n",
       "joy           1 2988.16295 499990    682755.1    0.000000e+00\n",
       "anticipation  1   17.84846 499989    682737.3    2.392123e-05"
      ]
     },
     "metadata": {},
     "output_type": "display_data"
    },
    {
     "name": "stdout",
     "output_type": "stream",
     "text": [
      "[1] \"Accuracy 0.639417845484222\"\n"
     ]
    }
   ],
   "source": [
    "real0 <- real\n",
    "fake0 <- fake\n",
    "real0$last <- as.numeric(1)\n",
    "fake0$last <- as.numeric(0)\n",
    "df0 <- rbind(fake0, real0)\n",
    "df0.binom <- glm(df0$last ~ ., data = df0[,-c(1,12)],family = \"binomial\")\n",
    "summary(df0.binom)\n",
    "anova(df0.binom, test=\"Chisq\")\n",
    "\n",
    "df0.binom.predict <- predict(df0.binom,newdata=subset(test0,select=-c(1,12)),type='response')\n",
    "df0.binom.predict.res <- ifelse(df0.binom.predict > 0.5,1,0)\n",
    "df0.binom.predict.ERR <- mean(df0.binom.predict.res != test0$last)\n",
    "print(paste('Accuracy',1-df0.binom.predict.ERR))\n"
   ]
  },
  {
   "cell_type": "code",
   "execution_count": null,
   "metadata": {
    "collapsed": true
   },
   "outputs": [],
   "source": []
  }
 ],
 "metadata": {
  "kernelspec": {
   "display_name": "R",
   "language": "R",
   "name": "ir"
  },
  "language_info": {
   "codemirror_mode": "r",
   "file_extension": ".r",
   "mimetype": "text/x-r-source",
   "name": "R",
   "pygments_lexer": "r",
   "version": "3.4.2"
  }
 },
 "nbformat": 4,
 "nbformat_minor": 2
}
