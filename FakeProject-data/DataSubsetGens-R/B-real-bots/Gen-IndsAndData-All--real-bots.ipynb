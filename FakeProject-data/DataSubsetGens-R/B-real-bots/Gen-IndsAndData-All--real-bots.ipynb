{
 "cells": [
  {
   "cell_type": "markdown",
   "metadata": {},
   "source": [
    "# Generate Indices & Create Sample Files:\n",
    "### *All Tweets* with only *real/bot* categories\n",
    "\n",
    "#### This notebook generates indices for use in sampling the data as well as exports datasets from the corpus based on those indices.  The indices are exported as well.  Additionally, the data exproted by this notebook is only categorized as either **_real_** or **_fake_**.\n",
    "\n",
    "## Load the Date Files\n",
    "\n",
    "First, we store the file names (*and their locations*) of the files containing fake tweets in the string '**fileName0**' and the string array '**fileName**'[ ]."
   ]
  },
  {
   "cell_type": "code",
   "execution_count": 1,
   "metadata": {
    "collapsed": true
   },
   "outputs": [],
   "source": [
    "fileName0 = '../../datasetsFULLcsv/socialSpambots1csv/tweets.csv'\n",
    "\n",
    "fileNames = c('../../datasetsFULLcsv/socialSpambots2csv/tweets.csv', '../../datasetsFULLcsv/socialSpambots3csv/tweets.csv', '../../datasetsFULLcsv/traditionalSpambots1csv/tweets.csv')"
   ]
  },
  {
   "cell_type": "markdown",
   "metadata": {},
   "source": [
    "Using the CSV file names previously specified in '**fileName0**' and '**fileNames**'[ ], we can now load the file into the _data.frame_( ) named '**fakeCSV**'. Additionally, from the '**fakeCSV**' and **_subsequent_** _data.frame_( ), we will create a smaller, simpler *data.frame*( ) named '**fakeTweets**'.  This reduction in size and complexity of '**fakeTweets**' is due to the fact that it only contains the ID number of the tweet in our database, along with the text of the tweet."
   ]
  },
  {
   "cell_type": "code",
   "execution_count": 2,
   "metadata": {},
   "outputs": [
    {
     "name": "stderr",
     "output_type": "stream",
     "text": [
      "Warning message in scan(file = file, what = what, sep = sep, quote = quote, dec = dec, :\n",
      "“embedded nul(s) found in input”Warning message in scan(file = file, what = what, sep = sep, quote = quote, dec = dec, :\n",
      "“embedded nul(s) found in input”Warning message in scan(file = file, what = what, sep = sep, quote = quote, dec = dec, :\n",
      "“embedded nul(s) found in input”Warning message in scan(file = file, what = what, sep = sep, quote = quote, dec = dec, :\n",
      "“embedded nul(s) found in input”"
     ]
    }
   ],
   "source": [
    "fakeCSV = read.csv(fileName0)\n",
    "fakeTweets <- data.frame(userID = fakeCSV$user_id, id = fakeCSV$id, text = fakeCSV$text)\n",
    "\n",
    "for (filename in fileNames) {\n",
    "    temp0 = read.csv(filename)\n",
    "    temp <- data.frame(userID = temp0$user_id, id = temp0$id, text = temp0$text)\n",
    "    fakeTweets <- rbind(fakeTweets, temp)\n",
    "}"
   ]
  },
  {
   "cell_type": "markdown",
   "metadata": {},
   "source": [
    "We now load the file containing real tweets into the _data.frame_( ) named '**realCSV**'."
   ]
  },
  {
   "cell_type": "code",
   "execution_count": 3,
   "metadata": {},
   "outputs": [
    {
     "name": "stderr",
     "output_type": "stream",
     "text": [
      "Warning message in scan(file = file, what = what, sep = sep, quote = quote, dec = dec, :\n",
      "“embedded nul(s) found in input”"
     ]
    }
   ],
   "source": [
    "realCSV = read.csv('../../datasetsFULLcsv/genuineAccountsCSV/tweets.csv')"
   ]
  },
  {
   "cell_type": "markdown",
   "metadata": {},
   "source": [
    "As with the '**fakeCSV**' _data.frame_( ), from the '**realCSV** _data.frame_( ), we will create two smaller, simpler *data.frame*( ) named '**realTweets**'.  This reduction in size and complexity of '**realTweets**' is due to the fact that it only contains the ID number of the tweet in our database, along with the text of the tweet.  "
   ]
  },
  {
   "cell_type": "code",
   "execution_count": 4,
   "metadata": {
    "collapsed": true
   },
   "outputs": [],
   "source": [
    "realTweets <- data.frame(id = realCSV$id, text = realCSV$text)"
   ]
  },
  {
   "cell_type": "markdown",
   "metadata": {},
   "source": [
    "The initial size of the imports are"
   ]
  },
  {
   "cell_type": "code",
   "execution_count": 5,
   "metadata": {},
   "outputs": [
    {
     "data": {
      "text/html": [
       "3602227"
      ],
      "text/latex": [
       "3602227"
      ],
      "text/markdown": [
       "3602227"
      ],
      "text/plain": [
       "[1] 3602227"
      ]
     },
     "metadata": {},
     "output_type": "display_data"
    },
    {
     "data": {
      "text/html": [
       "2839362"
      ],
      "text/latex": [
       "2839362"
      ],
      "text/markdown": [
       "2839362"
      ],
      "text/plain": [
       "[1] 2839362"
      ]
     },
     "metadata": {},
     "output_type": "display_data"
    }
   ],
   "source": [
    "nrow(fakeTweets)\n",
    "nrow(realTweets)"
   ]
  },
  {
   "cell_type": "markdown",
   "metadata": {},
   "source": [
    "## Clean the Data\n",
    "\n",
    "Now, we remove web URLs, twitter usernames, twitter hashtags, punctuation, and stand-alone numberic digits."
   ]
  },
  {
   "cell_type": "code",
   "execution_count": 6,
   "metadata": {
    "collapsed": true
   },
   "outputs": [],
   "source": [
    "# remove web URLs\n",
    "fakeTweets <- data.frame(id = fakeTweets$id, text = gsub(\"http[[:alnum:][:punct:]]*\", \"\", fakeTweets$text))\n",
    "realTweets <- data.frame(id = realTweets$id, text = gsub(\"http[[:alnum:][:punct:]]*\", \"\", realTweets$text))\n",
    "\n",
    "# remove twitter handles (@<username>)\n",
    "fakeTweets <- data.frame(id = fakeTweets$id, text = gsub(\"#[[:alnum:][:punct:]]*\", \"\", fakeTweets$text))\n",
    "realTweets <- data.frame(id = realTweets$id, text = gsub(\"#[[:alnum:][:punct:]]*\", \"\", realTweets$text))\n",
    "\n",
    "# remove hashtags (#<hashtag name>)\n",
    "fakeTweets <- data.frame(id = fakeTweets$id, text = gsub(\"@[[:alnum:][:punct:]]*\", \"\", fakeTweets$text))\n",
    "realTweets <- data.frame(id = realTweets$id, text = gsub(\"@[[:alnum:][:punct:]]*\", \"\", realTweets$text))\n",
    "\n",
    "# remove punctuation\n",
    "fakeTweets <- data.frame(id = fakeTweets$id, text = gsub('[[:punct:] ]+', ' ', fakeTweets$text))\n",
    "realTweets <- data.frame(id = realTweets$id, text = gsub('[[:punct:] ]+', ' ', realTweets$text))\n",
    "\n",
    "# remove numbers\n",
    "fakeTweets <- data.frame(id = fakeTweets$id, text = gsub(\"[0-9]\", \"\", fakeTweets$text))\n",
    "realTweets <- data.frame(id = realTweets$id, text = gsub(\"[0-9]\", \"\", realTweets$text))\n",
    "\n",
    "# convert to lowercase\n",
    "fakeTweets <- data.frame(id = fakeTweets$id, text = tolower(fakeTweets$text))\n",
    "realTweets <- data.frame(id = realTweets$id, text = tolower(realTweets$text))"
   ]
  },
  {
   "cell_type": "markdown",
   "metadata": {},
   "source": [
    "The number of tweets available after cleaning"
   ]
  },
  {
   "cell_type": "code",
   "execution_count": 7,
   "metadata": {},
   "outputs": [
    {
     "data": {
      "text/html": [
       "3602227"
      ],
      "text/latex": [
       "3602227"
      ],
      "text/markdown": [
       "3602227"
      ],
      "text/plain": [
       "[1] 3602227"
      ]
     },
     "metadata": {},
     "output_type": "display_data"
    },
    {
     "data": {
      "text/html": [
       "2839362"
      ],
      "text/latex": [
       "2839362"
      ],
      "text/markdown": [
       "2839362"
      ],
      "text/plain": [
       "[1] 2839362"
      ]
     },
     "metadata": {},
     "output_type": "display_data"
    }
   ],
   "source": [
    "nrow(fakeTweets)\n",
    "nrow(realTweets)"
   ]
  },
  {
   "cell_type": "markdown",
   "metadata": {},
   "source": [
    "### TidyText the Data File\n",
    "\n",
    "Now we must tokenize the text of each tweet using the '*tidytext*' and '*dplyr*' libraries.  To do this, the '*tidytext*' and '*dplyr*' libraries must be imported and the data frames type used to store both types of tweets converted to the data frame type from the '**dplyr**' library before the tweets can be tokenized. \n",
    "\n",
    "> First, we import the '*tidytext*' and '*dplyr*' libraries: "
   ]
  },
  {
   "cell_type": "code",
   "execution_count": 8,
   "metadata": {},
   "outputs": [
    {
     "name": "stderr",
     "output_type": "stream",
     "text": [
      "\n",
      "Attaching package: ‘dplyr’\n",
      "\n",
      "The following objects are masked from ‘package:stats’:\n",
      "\n",
      "    filter, lag\n",
      "\n",
      "The following objects are masked from ‘package:base’:\n",
      "\n",
      "    intersect, setdiff, setequal, union\n",
      "\n"
     ]
    }
   ],
   "source": [
    "library(dplyr)\n",
    "library(tidytext)"
   ]
  },
  {
   "cell_type": "markdown",
   "metadata": {},
   "source": [
    "> Then we convert the data frames of '**fakeTweets**' and '**realTweets**' to the data frame type from the '*dplyr*' library:"
   ]
  },
  {
   "cell_type": "code",
   "execution_count": 9,
   "metadata": {
    "collapsed": true
   },
   "outputs": [],
   "source": [
    "fakeTweets <- data_frame(id = fakeTweets$id, text = as.character(fakeTweets$text))\n",
    "realTweets <- data_frame(id = realTweets$id, text = as.character(realTweets$text))"
   ]
  },
  {
   "cell_type": "markdown",
   "metadata": {},
   "source": [
    "### Tokenization\n",
    "\n",
    "We now tokenize the text of the tweets, storing these tokens in new data frames (*from __dplyr__*). \n",
    "\n",
    "> For the fake tweets, we use the new data frame (*from __dplyr__*) '**fakeTweetTOKENS**':"
   ]
  },
  {
   "cell_type": "code",
   "execution_count": 10,
   "metadata": {
    "collapsed": true
   },
   "outputs": [],
   "source": [
    "fakeTweetsTOKENS <- fakeTweets %>%\n",
    "    unnest_tokens(word, text)"
   ]
  },
  {
   "cell_type": "markdown",
   "metadata": {},
   "source": [
    "> Similarly, we tokenize the text of the real tweets, them in the new data frame (*from __dplyr__*) '**realTweetTOKENS**'."
   ]
  },
  {
   "cell_type": "code",
   "execution_count": 11,
   "metadata": {
    "collapsed": true
   },
   "outputs": [],
   "source": [
    "realTweetsTOKENS <- realTweets %>%\n",
    "    unnest_tokens(word, text)"
   ]
  },
  {
   "cell_type": "markdown",
   "metadata": {},
   "source": [
    "### Remove '*Stop Words*'\n",
    "\n",
    "Now, we will remove any stop words from the text of the tweets.  To do this, we first import the '*stop_words*' dataset from the '*tidytext*' library.\n",
    "\n",
    "> Importing the '*stop_words*' dataset from the '*tidytext*' library:"
   ]
  },
  {
   "cell_type": "code",
   "execution_count": 12,
   "metadata": {
    "collapsed": true
   },
   "outputs": [],
   "source": [
    "data(stop_words)"
   ]
  },
  {
   "cell_type": "markdown",
   "metadata": {},
   "source": [
    "> Now, we use the '*anti_join*( )' function from the '*dplyr*' library to remove these stop words from the fake tweets"
   ]
  },
  {
   "cell_type": "code",
   "execution_count": 13,
   "metadata": {},
   "outputs": [
    {
     "name": "stderr",
     "output_type": "stream",
     "text": [
      "Joining, by = \"word\"\n"
     ]
    }
   ],
   "source": [
    "fakeTweetsTOKENS <- fakeTweetsTOKENS %>%\n",
    "    anti_join(stop_words)"
   ]
  },
  {
   "cell_type": "markdown",
   "metadata": {},
   "source": [
    "> and the real tweets"
   ]
  },
  {
   "cell_type": "code",
   "execution_count": 14,
   "metadata": {},
   "outputs": [
    {
     "name": "stderr",
     "output_type": "stream",
     "text": [
      "Joining, by = \"word\"\n"
     ]
    }
   ],
   "source": [
    "realTweetsTOKENS <- realTweetsTOKENS %>%\n",
    "    anti_join(stop_words)"
   ]
  },
  {
   "cell_type": "markdown",
   "metadata": {},
   "source": [
    "Number of fake and real tweet tokens is"
   ]
  },
  {
   "cell_type": "code",
   "execution_count": 15,
   "metadata": {},
   "outputs": [
    {
     "data": {
      "text/html": [
       "31665604"
      ],
      "text/latex": [
       "31665604"
      ],
      "text/markdown": [
       "31665604"
      ],
      "text/plain": [
       "[1] 31665604"
      ]
     },
     "metadata": {},
     "output_type": "display_data"
    },
    {
     "data": {
      "text/html": [
       "13654173"
      ],
      "text/latex": [
       "13654173"
      ],
      "text/markdown": [
       "13654173"
      ],
      "text/plain": [
       "[1] 13654173"
      ]
     },
     "metadata": {},
     "output_type": "display_data"
    }
   ],
   "source": [
    "nrow(fakeTweetsTOKENS)\n",
    "nrow(realTweetsTOKENS)"
   ]
  },
  {
   "cell_type": "markdown",
   "metadata": {},
   "source": [
    "## NRC Model\n",
    "\n",
    "We are first going to use the **NRC Sentiment Model** containing ten emotions associated with words.  Thus, we load the sentiments database for NRC followed by storing those ten emotions in their own dataframe."
   ]
  },
  {
   "cell_type": "code",
   "execution_count": 16,
   "metadata": {
    "collapsed": true
   },
   "outputs": [],
   "source": [
    "nrcWORDS <- get_sentiments(\"nrc\")\n",
    "nrcEMOTIONS <- unique(nrcWORDS$sentiment)"
   ]
  },
  {
   "cell_type": "markdown",
   "metadata": {},
   "source": [
    "### Associate Words with their Emotions\n",
    "\n",
    "Now, we generate data frames that associates the words in fake tweets with their associated emotions under the **NRC Model**.\n",
    "\n",
    "> First, for fake tweets"
   ]
  },
  {
   "cell_type": "code",
   "execution_count": 17,
   "metadata": {},
   "outputs": [
    {
     "name": "stderr",
     "output_type": "stream",
     "text": [
      "Joining, by = \"word\"\n",
      "Joining, by = \"id\"\n",
      "Joining, by = \"word\"\n",
      "Joining, by = c(\"id\", \"word\", \"sentiment\")\n",
      "Joining, by = \"word\"\n",
      "Joining, by = c(\"id\", \"word\", \"sentiment\")\n",
      "Joining, by = \"word\"\n",
      "Joining, by = c(\"id\", \"word\", \"sentiment\")\n",
      "Joining, by = \"word\"\n",
      "Joining, by = c(\"id\", \"word\", \"sentiment\")\n",
      "Joining, by = \"word\"\n",
      "Joining, by = c(\"id\", \"word\", \"sentiment\")\n",
      "Joining, by = \"word\"\n",
      "Joining, by = c(\"id\", \"word\", \"sentiment\")\n",
      "Joining, by = \"word\"\n",
      "Joining, by = c(\"id\", \"word\", \"sentiment\")\n",
      "Joining, by = \"word\"\n",
      "Joining, by = c(\"id\", \"word\", \"sentiment\")\n",
      "Joining, by = \"word\"\n",
      "Joining, by = c(\"id\", \"word\", \"sentiment\")\n"
     ]
    }
   ],
   "source": [
    "# initial data.frame() to hold the processed data\n",
    "#   with an initial value for ID to make full_join()s possible\n",
    "fakeTweetsNRCsentiment <- data.frame(id = 0)\n",
    "\n",
    "# loop though the emotions\n",
    "for (emotion in nrcEMOTIONS){\n",
    "    fakeTweetsNRCsentiment0 <- inner_join(fakeTweetsTOKENS, filter(nrcWORDS, sentiment == emotion))\n",
    "    fakeTweetsNRCsentiment <- full_join(fakeTweetsNRCsentiment, fakeTweetsNRCsentiment0)\n",
    "    }\n",
    "\n",
    "# remove the initial value from the data.frame()\n",
    "fakeTweetsNRCsentiment <- data.frame(fakeTweetsNRCsentiment[-1,])"
   ]
  },
  {
   "cell_type": "markdown",
   "metadata": {},
   "source": [
    "> and then for real tweets"
   ]
  },
  {
   "cell_type": "code",
   "execution_count": 18,
   "metadata": {},
   "outputs": [
    {
     "name": "stderr",
     "output_type": "stream",
     "text": [
      "Joining, by = \"word\"\n",
      "Joining, by = \"id\"\n",
      "Warning message:\n",
      "“Column `id` joining factors with different levels, coercing to character vector”Joining, by = \"word\"\n",
      "Joining, by = c(\"id\", \"word\", \"sentiment\")\n",
      "Warning message:\n",
      "“Column `id` joining character vector and factor, coercing into character vector”Joining, by = \"word\"\n",
      "Joining, by = c(\"id\", \"word\", \"sentiment\")\n",
      "Warning message:\n",
      "“Column `id` joining character vector and factor, coercing into character vector”Joining, by = \"word\"\n",
      "Joining, by = c(\"id\", \"word\", \"sentiment\")\n",
      "Warning message:\n",
      "“Column `id` joining character vector and factor, coercing into character vector”Joining, by = \"word\"\n",
      "Joining, by = c(\"id\", \"word\", \"sentiment\")\n",
      "Warning message:\n",
      "“Column `id` joining character vector and factor, coercing into character vector”Joining, by = \"word\"\n",
      "Joining, by = c(\"id\", \"word\", \"sentiment\")\n",
      "Warning message:\n",
      "“Column `id` joining character vector and factor, coercing into character vector”Joining, by = \"word\"\n",
      "Joining, by = c(\"id\", \"word\", \"sentiment\")\n",
      "Warning message:\n",
      "“Column `id` joining character vector and factor, coercing into character vector”Joining, by = \"word\"\n",
      "Joining, by = c(\"id\", \"word\", \"sentiment\")\n",
      "Warning message:\n",
      "“Column `id` joining character vector and factor, coercing into character vector”Joining, by = \"word\"\n",
      "Joining, by = c(\"id\", \"word\", \"sentiment\")\n",
      "Warning message:\n",
      "“Column `id` joining character vector and factor, coercing into character vector”Joining, by = \"word\"\n",
      "Joining, by = c(\"id\", \"word\", \"sentiment\")\n",
      "Warning message:\n",
      "“Column `id` joining character vector and factor, coercing into character vector”"
     ]
    }
   ],
   "source": [
    "# initial data.frame() to hold the processed data\n",
    "#   with an initial value for ID to make full_join()s possible\n",
    "realTweetsNRCsentiment <- data.frame(id = as.factor(0))\n",
    "\n",
    "# loop though the emotions\n",
    "for (emotion in nrcEMOTIONS){\n",
    "    realTweetsNRCsentiment0 <- inner_join(realTweetsTOKENS, filter(nrcWORDS, sentiment == emotion))\n",
    "    realTweetsNRCsentiment <- full_join(realTweetsNRCsentiment, realTweetsNRCsentiment0)\n",
    "    }\n",
    "\n",
    "# remove the initial value from the data.frame()\n",
    "realTweetsNRCsentiment <- data.frame(realTweetsNRCsentiment[-1,])"
   ]
  },
  {
   "cell_type": "markdown",
   "metadata": {},
   "source": [
    "> The number of word, sentiment groups now in our data sets"
   ]
  },
  {
   "cell_type": "code",
   "execution_count": 19,
   "metadata": {},
   "outputs": [
    {
     "data": {
      "text/html": [
       "6409191"
      ],
      "text/latex": [
       "6409191"
      ],
      "text/markdown": [
       "6409191"
      ],
      "text/plain": [
       "[1] 6409191"
      ]
     },
     "metadata": {},
     "output_type": "display_data"
    },
    {
     "data": {
      "text/html": [
       "6216860"
      ],
      "text/latex": [
       "6216860"
      ],
      "text/markdown": [
       "6216860"
      ],
      "text/plain": [
       "[1] 6216860"
      ]
     },
     "metadata": {},
     "output_type": "display_data"
    }
   ],
   "source": [
    "nrow(fakeTweetsNRCsentiment)\n",
    "nrow(realTweetsNRCsentiment)"
   ]
  },
  {
   "cell_type": "markdown",
   "metadata": {},
   "source": [
    "### Generate *Tweet-Emotion Matrices*\n",
    "\n",
    "We now need to generate what we are calling *Tweet-Emotion Matrices*.  In these matrices, the rows represent the tweets we have analyzed, while the columns represent the ten emotions in the **NRC Model**.  Thus, the elements of the matrix represent the strength of the emotion represented by the element's column for the tweet represented by the element's row.\n",
    "\n",
    "> First, we do this for the fake tweets:"
   ]
  },
  {
   "cell_type": "code",
   "execution_count": 20,
   "metadata": {
    "collapsed": true
   },
   "outputs": [],
   "source": [
    "attach(fakeTweetsNRCsentiment)\n",
    "fakeNRCscoredTweets <- data.frame(table(id, sentiment), realFAKEcat = \"fakeBOT\")\n",
    "detach(fakeTweetsNRCsentiment)"
   ]
  },
  {
   "cell_type": "markdown",
   "metadata": {},
   "source": [
    "> Then we do it for the real tweets"
   ]
  },
  {
   "cell_type": "code",
   "execution_count": 21,
   "metadata": {
    "collapsed": true
   },
   "outputs": [],
   "source": [
    "attach(realTweetsNRCsentiment)\n",
    "realNRCscoredTweets <- data.frame(table(id, sentiment), realFAKEcat = \"real\")\n",
    "detach(realTweetsNRCsentiment)"
   ]
  },
  {
   "cell_type": "markdown",
   "metadata": {},
   "source": [
    "> We now create a combined data frame containing **_ALL_** tweets, both real and fake"
   ]
  },
  {
   "cell_type": "code",
   "execution_count": 22,
   "metadata": {
    "collapsed": true
   },
   "outputs": [],
   "source": [
    "NRCscoredTweets <- rbind(fakeNRCscoredTweets, realNRCscoredTweets)"
   ]
  },
  {
   "cell_type": "markdown",
   "metadata": {},
   "source": [
    "> Using this data frame, we create \"data *sub*-frames\" to store the frequency data for each emotion covered by the **NRC Model**:"
   ]
  },
  {
   "cell_type": "code",
   "execution_count": 23,
   "metadata": {
    "collapsed": true
   },
   "outputs": [],
   "source": [
    "# trust\n",
    "trustScores <- data.frame(id = filter(NRCscoredTweets, sentiment == \"trust\")$id, trust = filter(NRCscoredTweets, sentiment == \"trust\")$Freq)\n",
    "\n",
    "# fear\n",
    "fearScores <- data.frame(id = filter(NRCscoredTweets, sentiment == \"fear\")$id, fear = filter(NRCscoredTweets, sentiment == \"fear\")$Freq)\n",
    "\n",
    "# negative\n",
    "negScores <- data.frame(id = filter(NRCscoredTweets, sentiment == \"negative\")$id, negative = filter(NRCscoredTweets, sentiment == \"negative\")$Freq)\n",
    "\n",
    "# sadness\n",
    "sadnessScores <- data.frame(id = filter(NRCscoredTweets, sentiment == \"sadness\")$id, sadness = filter(NRCscoredTweets, sentiment == \"sadness\")$Freq)\n",
    "\n",
    "# anger\n",
    "angerScores <- data.frame(id = filter(NRCscoredTweets, sentiment == \"anger\")$id, anger = filter(NRCscoredTweets, sentiment == \"anger\")$Freq)\n",
    "\n",
    "# surprise\n",
    "surpriseScores <- data.frame(id = filter(NRCscoredTweets, sentiment == \"surprise\")$id, surprise = filter(NRCscoredTweets, sentiment == \"surprise\")$Freq)\n",
    "\n",
    "# positive\n",
    "posScores <- data.frame(id = filter(NRCscoredTweets, sentiment == \"positive\")$id, positive = filter(NRCscoredTweets, sentiment == \"positive\")$Freq)\n",
    "\n",
    "# disgust\n",
    "disgustScores <- data.frame(id = filter(NRCscoredTweets, sentiment == \"disgust\")$id, disgust = filter(NRCscoredTweets, sentiment == \"disgust\")$Freq)\n",
    "\n",
    "# joy\n",
    "joyScores <- data.frame(id = filter(NRCscoredTweets, sentiment == \"joy\")$id, joy = filter(NRCscoredTweets, sentiment == \"joy\")$Freq)\n",
    "\n",
    "# anticipation\n",
    "anticipationScores <- data.frame(id = filter(NRCscoredTweets, sentiment == \"anticipation\")$id, anticipation = filter(NRCscoredTweets, sentiment == \"anticipation\")$Freq, realFAKEcat = filter(NRCscoredTweets, sentiment == \"anticipation\")$realFAKEcat)"
   ]
  },
  {
   "cell_type": "markdown",
   "metadata": {},
   "source": [
    "> These \"data *sub*-frames\" are now combined by the tweet id represented by each row to give the final **_Tweet-Emotion Matrix_**."
   ]
  },
  {
   "cell_type": "code",
   "execution_count": 24,
   "metadata": {},
   "outputs": [
    {
     "name": "stderr",
     "output_type": "stream",
     "text": [
      "Joining, by = \"id\"\n",
      "Joining, by = \"id\"\n",
      "Joining, by = \"id\"\n",
      "Joining, by = \"id\"\n",
      "Joining, by = \"id\"\n",
      "Joining, by = \"id\"\n",
      "Joining, by = \"id\"\n",
      "Joining, by = \"id\"\n",
      "Joining, by = \"id\"\n"
     ]
    }
   ],
   "source": [
    "nrcSCORES <- full_join(trustScores, full_join(fearScores, full_join(negScores, full_join(sadnessScores, full_join(angerScores, full_join(surpriseScores, full_join(posScores, full_join(disgustScores, full_join(joyScores, anticipationScores)))))))))"
   ]
  },
  {
   "cell_type": "markdown",
   "metadata": {},
   "source": [
    "> #### Look at the table\n",
    "\n",
    "> We now get a quick look at the layout of our table to ensure its what we want"
   ]
  },
  {
   "cell_type": "code",
   "execution_count": 25,
   "metadata": {},
   "outputs": [
    {
     "data": {
      "text/html": [
       "<table>\n",
       "<thead><tr><th scope=col>id</th><th scope=col>trust</th><th scope=col>fear</th><th scope=col>negative</th><th scope=col>sadness</th><th scope=col>anger</th><th scope=col>surprise</th><th scope=col>positive</th><th scope=col>disgust</th><th scope=col>joy</th><th scope=col>anticipation</th><th scope=col>realFAKEcat</th></tr></thead>\n",
       "<tbody>\n",
       "\t<tr><td>79932896</td><td>1       </td><td>0       </td><td>0       </td><td>0       </td><td>0       </td><td>1       </td><td>1       </td><td>1       </td><td>1       </td><td>1       </td><td>fakeBOT </td></tr>\n",
       "\t<tr><td>79932963</td><td>0       </td><td>0       </td><td>1       </td><td>1       </td><td>0       </td><td>0       </td><td>0       </td><td>0       </td><td>0       </td><td>0       </td><td>fakeBOT </td></tr>\n",
       "\t<tr><td>79933142</td><td>0       </td><td>0       </td><td>0       </td><td>0       </td><td>0       </td><td>0       </td><td>1       </td><td>0       </td><td>0       </td><td>0       </td><td>fakeBOT </td></tr>\n",
       "\t<tr><td>80053480</td><td>0       </td><td>0       </td><td>0       </td><td>0       </td><td>0       </td><td>0       </td><td>2       </td><td>0       </td><td>0       </td><td>0       </td><td>fakeBOT </td></tr>\n",
       "\t<tr><td>80161319</td><td>0       </td><td>1       </td><td>1       </td><td>0       </td><td>0       </td><td>0       </td><td>1       </td><td>1       </td><td>0       </td><td>0       </td><td>fakeBOT </td></tr>\n",
       "\t<tr><td>80162827</td><td>1       </td><td>0       </td><td>0       </td><td>0       </td><td>0       </td><td>0       </td><td>1       </td><td>0       </td><td>1       </td><td>1       </td><td>fakeBOT </td></tr>\n",
       "\t<tr><td>80559322</td><td>0       </td><td>1       </td><td>1       </td><td>1       </td><td>1       </td><td>0       </td><td>1       </td><td>0       </td><td>0       </td><td>0       </td><td>fakeBOT </td></tr>\n",
       "\t<tr><td>80608082</td><td>1       </td><td>0       </td><td>0       </td><td>0       </td><td>0       </td><td>0       </td><td>1       </td><td>0       </td><td>0       </td><td>1       </td><td>fakeBOT </td></tr>\n",
       "\t<tr><td>80615798</td><td>0       </td><td>1       </td><td>0       </td><td>0       </td><td>0       </td><td>0       </td><td>0       </td><td>0       </td><td>0       </td><td>1       </td><td>fakeBOT </td></tr>\n",
       "\t<tr><td>80615987</td><td>1       </td><td>1       </td><td>0       </td><td>0       </td><td>0       </td><td>0       </td><td>1       </td><td>0       </td><td>0       </td><td>2       </td><td>fakeBOT </td></tr>\n",
       "\t<tr><td>80626723</td><td>0       </td><td>0       </td><td>0       </td><td>0       </td><td>0       </td><td>0       </td><td>1       </td><td>0       </td><td>0       </td><td>0       </td><td>fakeBOT </td></tr>\n",
       "\t<tr><td>80804895</td><td>0       </td><td>1       </td><td>0       </td><td>0       </td><td>0       </td><td>0       </td><td>0       </td><td>0       </td><td>0       </td><td>1       </td><td>fakeBOT </td></tr>\n",
       "\t<tr><td>80913451</td><td>0       </td><td>1       </td><td>1       </td><td>0       </td><td>1       </td><td>1       </td><td>0       </td><td>0       </td><td>0       </td><td>0       </td><td>fakeBOT </td></tr>\n",
       "\t<tr><td>81001802</td><td>1       </td><td>1       </td><td>0       </td><td>0       </td><td>0       </td><td>1       </td><td>1       </td><td>0       </td><td>1       </td><td>1       </td><td>fakeBOT </td></tr>\n",
       "\t<tr><td>81128945</td><td>0       </td><td>0       </td><td>1       </td><td>0       </td><td>1       </td><td>0       </td><td>1       </td><td>0       </td><td>1       </td><td>1       </td><td>fakeBOT </td></tr>\n",
       "\t<tr><td>81164188</td><td>0       </td><td>0       </td><td>1       </td><td>0       </td><td>0       </td><td>0       </td><td>1       </td><td>0       </td><td>0       </td><td>0       </td><td>fakeBOT </td></tr>\n",
       "\t<tr><td>81267526</td><td>1       </td><td>0       </td><td>0       </td><td>0       </td><td>1       </td><td>0       </td><td>1       </td><td>0       </td><td>0       </td><td>1       </td><td>fakeBOT </td></tr>\n",
       "\t<tr><td>81451047</td><td>2       </td><td>0       </td><td>0       </td><td>0       </td><td>0       </td><td>0       </td><td>3       </td><td>0       </td><td>2       </td><td>1       </td><td>fakeBOT </td></tr>\n",
       "\t<tr><td>81463517</td><td>3       </td><td>3       </td><td>2       </td><td>2       </td><td>2       </td><td>1       </td><td>5       </td><td>0       </td><td>3       </td><td>2       </td><td>fakeBOT </td></tr>\n",
       "\t<tr><td>81465570</td><td>0       </td><td>1       </td><td>0       </td><td>0       </td><td>0       </td><td>0       </td><td>0       </td><td>0       </td><td>0       </td><td>1       </td><td>fakeBOT </td></tr>\n",
       "\t<tr><td>81553620</td><td>1       </td><td>0       </td><td>0       </td><td>0       </td><td>0       </td><td>0       </td><td>2       </td><td>0       </td><td>0       </td><td>0       </td><td>fakeBOT </td></tr>\n",
       "\t<tr><td>81639001</td><td>2       </td><td>0       </td><td>0       </td><td>0       </td><td>0       </td><td>0       </td><td>3       </td><td>0       </td><td>0       </td><td>2       </td><td>fakeBOT </td></tr>\n",
       "\t<tr><td>82119126</td><td>0       </td><td>1       </td><td>0       </td><td>0       </td><td>0       </td><td>0       </td><td>1       </td><td>0       </td><td>0       </td><td>0       </td><td>fakeBOT </td></tr>\n",
       "\t<tr><td>82139098</td><td>0       </td><td>0       </td><td>0       </td><td>0       </td><td>0       </td><td>0       </td><td>1       </td><td>0       </td><td>0       </td><td>0       </td><td>fakeBOT </td></tr>\n",
       "\t<tr><td>82308187</td><td>1       </td><td>0       </td><td>0       </td><td>0       </td><td>1       </td><td>1       </td><td>1       </td><td>0       </td><td>1       </td><td>1       </td><td>fakeBOT </td></tr>\n",
       "\t<tr><td>82314232</td><td>0       </td><td>0       </td><td>0       </td><td>0       </td><td>0       </td><td>1       </td><td>0       </td><td>0       </td><td>0       </td><td>0       </td><td>fakeBOT </td></tr>\n",
       "\t<tr><td>82368322</td><td>0       </td><td>2       </td><td>3       </td><td>2       </td><td>1       </td><td>0       </td><td>0       </td><td>1       </td><td>0       </td><td>0       </td><td>fakeBOT </td></tr>\n",
       "\t<tr><td>82368536</td><td>0       </td><td>0       </td><td>0       </td><td>0       </td><td>0       </td><td>1       </td><td>0       </td><td>0       </td><td>0       </td><td>0       </td><td>fakeBOT </td></tr>\n",
       "\t<tr><td>82432980</td><td>1       </td><td>1       </td><td>0       </td><td>0       </td><td>0       </td><td>0       </td><td>1       </td><td>0       </td><td>0       </td><td>0       </td><td>fakeBOT </td></tr>\n",
       "\t<tr><td>82433089</td><td>1       </td><td>0       </td><td>0       </td><td>0       </td><td>0       </td><td>0       </td><td>2       </td><td>0       </td><td>0       </td><td>0       </td><td>fakeBOT </td></tr>\n",
       "\t<tr><td>⋮</td><td>⋮</td><td>⋮</td><td>⋮</td><td>⋮</td><td>⋮</td><td>⋮</td><td>⋮</td><td>⋮</td><td>⋮</td><td>⋮</td><td>⋮</td></tr>\n",
       "\t<tr><td>99892075553763329</td><td>1                </td><td>0                </td><td>0                </td><td>0                </td><td>0                </td><td>0                </td><td>0                </td><td>0                </td><td>0                </td><td>1                </td><td>real             </td></tr>\n",
       "\t<tr><td>99892864728834048</td><td>0                </td><td>0                </td><td>0                </td><td>0                </td><td>0                </td><td>0                </td><td>1                </td><td>0                </td><td>1                </td><td>0                </td><td>real             </td></tr>\n",
       "\t<tr><td>99893394159050752</td><td>0                </td><td>0                </td><td>0                </td><td>0                </td><td>0                </td><td>0                </td><td>0                </td><td>1                </td><td>0                </td><td>0                </td><td>real             </td></tr>\n",
       "\t<tr><td>99895706571116544</td><td>1                </td><td>0                </td><td>0                </td><td>0                </td><td>0                </td><td>1                </td><td>1                </td><td>0                </td><td>1                </td><td>1                </td><td>real             </td></tr>\n",
       "\t<tr><td>99896158566096896</td><td>0                </td><td>0                </td><td>0                </td><td>0                </td><td>0                </td><td>0                </td><td>1                </td><td>0                </td><td>0                </td><td>0                </td><td>real             </td></tr>\n",
       "\t<tr><td>99898235065339904</td><td>0                </td><td>1                </td><td>1                </td><td>1                </td><td>1                </td><td>0                </td><td>0                </td><td>1                </td><td>0                </td><td>0                </td><td>real             </td></tr>\n",
       "\t<tr><td>99899088346152961</td><td>1                </td><td>0                </td><td>0                </td><td>0                </td><td>0                </td><td>0                </td><td>1                </td><td>0                </td><td>0                </td><td>1                </td><td>real             </td></tr>\n",
       "\t<tr><td>99902661935104002</td><td>1                </td><td>0                </td><td>1                </td><td>0                </td><td>0                </td><td>0                </td><td>0                </td><td>0                </td><td>0                </td><td>0                </td><td>real             </td></tr>\n",
       "\t<tr><td>999098069        </td><td>0                </td><td>0                </td><td>0                </td><td>0                </td><td>0                </td><td>0                </td><td>0                </td><td>0                </td><td>0                </td><td>1                </td><td>real             </td></tr>\n",
       "\t<tr><td>9991511556       </td><td>0                </td><td>1                </td><td>1                </td><td>0                </td><td>1                </td><td>1                </td><td>0                </td><td>0                </td><td>0                </td><td>0                </td><td>real             </td></tr>\n",
       "\t<tr><td>99916019371474944</td><td>1                </td><td>0                </td><td>0                </td><td>0                </td><td>0                </td><td>0                </td><td>0                </td><td>0                </td><td>0                </td><td>1                </td><td>real             </td></tr>\n",
       "\t<tr><td>9991845064       </td><td>0                </td><td>1                </td><td>1                </td><td>1                </td><td>0                </td><td>0                </td><td>0                </td><td>0                </td><td>0                </td><td>0                </td><td>real             </td></tr>\n",
       "\t<tr><td>99921540782632961</td><td>0                </td><td>0                </td><td>0                </td><td>0                </td><td>0                </td><td>0                </td><td>1                </td><td>0                </td><td>0                </td><td>0                </td><td>real             </td></tr>\n",
       "\t<tr><td>9992920426       </td><td>1                </td><td>0                </td><td>0                </td><td>0                </td><td>0                </td><td>0                </td><td>1                </td><td>0                </td><td>0                </td><td>0                </td><td>real             </td></tr>\n",
       "\t<tr><td>999335623        </td><td>1                </td><td>0                </td><td>0                </td><td>0                </td><td>0                </td><td>0                </td><td>0                </td><td>0                </td><td>0                </td><td>0                </td><td>real             </td></tr>\n",
       "\t<tr><td>9993556940       </td><td>2                </td><td>0                </td><td>0                </td><td>0                </td><td>0                </td><td>0                </td><td>1                </td><td>0                </td><td>1                </td><td>1                </td><td>real             </td></tr>\n",
       "\t<tr><td>999454921        </td><td>1                </td><td>0                </td><td>0                </td><td>0                </td><td>0                </td><td>0                </td><td>1                </td><td>0                </td><td>1                </td><td>0                </td><td>real             </td></tr>\n",
       "\t<tr><td>99945739437879296</td><td>0                </td><td>0                </td><td>0                </td><td>0                </td><td>0                </td><td>1                </td><td>1                </td><td>0                </td><td>0                </td><td>0                </td><td>real             </td></tr>\n",
       "\t<tr><td>999458614        </td><td>0                </td><td>0                </td><td>0                </td><td>0                </td><td>0                </td><td>1                </td><td>2                </td><td>0                </td><td>1                </td><td>1                </td><td>real             </td></tr>\n",
       "\t<tr><td>999475920        </td><td>0                </td><td>0                </td><td>0                </td><td>0                </td><td>0                </td><td>0                </td><td>0                </td><td>0                </td><td>0                </td><td>1                </td><td>real             </td></tr>\n",
       "\t<tr><td>99948350484381697</td><td>0                </td><td>0                </td><td>1                </td><td>0                </td><td>0                </td><td>0                </td><td>1                </td><td>0                </td><td>0                </td><td>1                </td><td>real             </td></tr>\n",
       "\t<tr><td>99949142712918017</td><td>0                </td><td>1                </td><td>2                </td><td>1                </td><td>2                </td><td>0                </td><td>0                </td><td>1                </td><td>0                </td><td>0                </td><td>real             </td></tr>\n",
       "\t<tr><td>99953361541005312</td><td>0                </td><td>0                </td><td>0                </td><td>0                </td><td>0                </td><td>0                </td><td>0                </td><td>0                </td><td>0                </td><td>2                </td><td>real             </td></tr>\n",
       "\t<tr><td>99958248064557057</td><td>1                </td><td>0                </td><td>0                </td><td>0                </td><td>0                </td><td>1                </td><td>1                </td><td>0                </td><td>1                </td><td>2                </td><td>real             </td></tr>\n",
       "\t<tr><td>9996364068       </td><td>0                </td><td>0                </td><td>0                </td><td>0                </td><td>0                </td><td>0                </td><td>1                </td><td>0                </td><td>0                </td><td>0                </td><td>real             </td></tr>\n",
       "\t<tr><td>999682705        </td><td>0                </td><td>0                </td><td>0                </td><td>0                </td><td>0                </td><td>0                </td><td>1                </td><td>0                </td><td>0                </td><td>0                </td><td>real             </td></tr>\n",
       "\t<tr><td>99973790699753473</td><td>0                </td><td>0                </td><td>0                </td><td>0                </td><td>0                </td><td>0                </td><td>1                </td><td>0                </td><td>0                </td><td>0                </td><td>real             </td></tr>\n",
       "\t<tr><td>9998069706       </td><td>0                </td><td>0                </td><td>1                </td><td>0                </td><td>1                </td><td>0                </td><td>0                </td><td>0                </td><td>0                </td><td>0                </td><td>real             </td></tr>\n",
       "\t<tr><td>9998131050       </td><td>1                </td><td>0                </td><td>0                </td><td>0                </td><td>0                </td><td>0                </td><td>1                </td><td>0                </td><td>0                </td><td>0                </td><td>real             </td></tr>\n",
       "\t<tr><td>99986578054717440</td><td>0                </td><td>1                </td><td>1                </td><td>1                </td><td>1                </td><td>0                </td><td>0                </td><td>1                </td><td>0                </td><td>0                </td><td>real             </td></tr>\n",
       "</tbody>\n",
       "</table>\n"
      ],
      "text/latex": [
       "\\begin{tabular}{r|llllllllllll}\n",
       " id & trust & fear & negative & sadness & anger & surprise & positive & disgust & joy & anticipation & realFAKEcat\\\\\n",
       "\\hline\n",
       "\t 79932896 & 1        & 0        & 0        & 0        & 0        & 1        & 1        & 1        & 1        & 1        & fakeBOT \\\\\n",
       "\t 79932963 & 0        & 0        & 1        & 1        & 0        & 0        & 0        & 0        & 0        & 0        & fakeBOT \\\\\n",
       "\t 79933142 & 0        & 0        & 0        & 0        & 0        & 0        & 1        & 0        & 0        & 0        & fakeBOT \\\\\n",
       "\t 80053480 & 0        & 0        & 0        & 0        & 0        & 0        & 2        & 0        & 0        & 0        & fakeBOT \\\\\n",
       "\t 80161319 & 0        & 1        & 1        & 0        & 0        & 0        & 1        & 1        & 0        & 0        & fakeBOT \\\\\n",
       "\t 80162827 & 1        & 0        & 0        & 0        & 0        & 0        & 1        & 0        & 1        & 1        & fakeBOT \\\\\n",
       "\t 80559322 & 0        & 1        & 1        & 1        & 1        & 0        & 1        & 0        & 0        & 0        & fakeBOT \\\\\n",
       "\t 80608082 & 1        & 0        & 0        & 0        & 0        & 0        & 1        & 0        & 0        & 1        & fakeBOT \\\\\n",
       "\t 80615798 & 0        & 1        & 0        & 0        & 0        & 0        & 0        & 0        & 0        & 1        & fakeBOT \\\\\n",
       "\t 80615987 & 1        & 1        & 0        & 0        & 0        & 0        & 1        & 0        & 0        & 2        & fakeBOT \\\\\n",
       "\t 80626723 & 0        & 0        & 0        & 0        & 0        & 0        & 1        & 0        & 0        & 0        & fakeBOT \\\\\n",
       "\t 80804895 & 0        & 1        & 0        & 0        & 0        & 0        & 0        & 0        & 0        & 1        & fakeBOT \\\\\n",
       "\t 80913451 & 0        & 1        & 1        & 0        & 1        & 1        & 0        & 0        & 0        & 0        & fakeBOT \\\\\n",
       "\t 81001802 & 1        & 1        & 0        & 0        & 0        & 1        & 1        & 0        & 1        & 1        & fakeBOT \\\\\n",
       "\t 81128945 & 0        & 0        & 1        & 0        & 1        & 0        & 1        & 0        & 1        & 1        & fakeBOT \\\\\n",
       "\t 81164188 & 0        & 0        & 1        & 0        & 0        & 0        & 1        & 0        & 0        & 0        & fakeBOT \\\\\n",
       "\t 81267526 & 1        & 0        & 0        & 0        & 1        & 0        & 1        & 0        & 0        & 1        & fakeBOT \\\\\n",
       "\t 81451047 & 2        & 0        & 0        & 0        & 0        & 0        & 3        & 0        & 2        & 1        & fakeBOT \\\\\n",
       "\t 81463517 & 3        & 3        & 2        & 2        & 2        & 1        & 5        & 0        & 3        & 2        & fakeBOT \\\\\n",
       "\t 81465570 & 0        & 1        & 0        & 0        & 0        & 0        & 0        & 0        & 0        & 1        & fakeBOT \\\\\n",
       "\t 81553620 & 1        & 0        & 0        & 0        & 0        & 0        & 2        & 0        & 0        & 0        & fakeBOT \\\\\n",
       "\t 81639001 & 2        & 0        & 0        & 0        & 0        & 0        & 3        & 0        & 0        & 2        & fakeBOT \\\\\n",
       "\t 82119126 & 0        & 1        & 0        & 0        & 0        & 0        & 1        & 0        & 0        & 0        & fakeBOT \\\\\n",
       "\t 82139098 & 0        & 0        & 0        & 0        & 0        & 0        & 1        & 0        & 0        & 0        & fakeBOT \\\\\n",
       "\t 82308187 & 1        & 0        & 0        & 0        & 1        & 1        & 1        & 0        & 1        & 1        & fakeBOT \\\\\n",
       "\t 82314232 & 0        & 0        & 0        & 0        & 0        & 1        & 0        & 0        & 0        & 0        & fakeBOT \\\\\n",
       "\t 82368322 & 0        & 2        & 3        & 2        & 1        & 0        & 0        & 1        & 0        & 0        & fakeBOT \\\\\n",
       "\t 82368536 & 0        & 0        & 0        & 0        & 0        & 1        & 0        & 0        & 0        & 0        & fakeBOT \\\\\n",
       "\t 82432980 & 1        & 1        & 0        & 0        & 0        & 0        & 1        & 0        & 0        & 0        & fakeBOT \\\\\n",
       "\t 82433089 & 1        & 0        & 0        & 0        & 0        & 0        & 2        & 0        & 0        & 0        & fakeBOT \\\\\n",
       "\t ⋮ & ⋮ & ⋮ & ⋮ & ⋮ & ⋮ & ⋮ & ⋮ & ⋮ & ⋮ & ⋮ & ⋮\\\\\n",
       "\t 99892075553763329 & 1                 & 0                 & 0                 & 0                 & 0                 & 0                 & 0                 & 0                 & 0                 & 1                 & real             \\\\\n",
       "\t 99892864728834048 & 0                 & 0                 & 0                 & 0                 & 0                 & 0                 & 1                 & 0                 & 1                 & 0                 & real             \\\\\n",
       "\t 99893394159050752 & 0                 & 0                 & 0                 & 0                 & 0                 & 0                 & 0                 & 1                 & 0                 & 0                 & real             \\\\\n",
       "\t 99895706571116544 & 1                 & 0                 & 0                 & 0                 & 0                 & 1                 & 1                 & 0                 & 1                 & 1                 & real             \\\\\n",
       "\t 99896158566096896 & 0                 & 0                 & 0                 & 0                 & 0                 & 0                 & 1                 & 0                 & 0                 & 0                 & real             \\\\\n",
       "\t 99898235065339904 & 0                 & 1                 & 1                 & 1                 & 1                 & 0                 & 0                 & 1                 & 0                 & 0                 & real             \\\\\n",
       "\t 99899088346152961 & 1                 & 0                 & 0                 & 0                 & 0                 & 0                 & 1                 & 0                 & 0                 & 1                 & real             \\\\\n",
       "\t 99902661935104002 & 1                 & 0                 & 1                 & 0                 & 0                 & 0                 & 0                 & 0                 & 0                 & 0                 & real             \\\\\n",
       "\t 999098069         & 0                 & 0                 & 0                 & 0                 & 0                 & 0                 & 0                 & 0                 & 0                 & 1                 & real             \\\\\n",
       "\t 9991511556        & 0                 & 1                 & 1                 & 0                 & 1                 & 1                 & 0                 & 0                 & 0                 & 0                 & real             \\\\\n",
       "\t 99916019371474944 & 1                 & 0                 & 0                 & 0                 & 0                 & 0                 & 0                 & 0                 & 0                 & 1                 & real             \\\\\n",
       "\t 9991845064        & 0                 & 1                 & 1                 & 1                 & 0                 & 0                 & 0                 & 0                 & 0                 & 0                 & real             \\\\\n",
       "\t 99921540782632961 & 0                 & 0                 & 0                 & 0                 & 0                 & 0                 & 1                 & 0                 & 0                 & 0                 & real             \\\\\n",
       "\t 9992920426        & 1                 & 0                 & 0                 & 0                 & 0                 & 0                 & 1                 & 0                 & 0                 & 0                 & real             \\\\\n",
       "\t 999335623         & 1                 & 0                 & 0                 & 0                 & 0                 & 0                 & 0                 & 0                 & 0                 & 0                 & real             \\\\\n",
       "\t 9993556940        & 2                 & 0                 & 0                 & 0                 & 0                 & 0                 & 1                 & 0                 & 1                 & 1                 & real             \\\\\n",
       "\t 999454921         & 1                 & 0                 & 0                 & 0                 & 0                 & 0                 & 1                 & 0                 & 1                 & 0                 & real             \\\\\n",
       "\t 99945739437879296 & 0                 & 0                 & 0                 & 0                 & 0                 & 1                 & 1                 & 0                 & 0                 & 0                 & real             \\\\\n",
       "\t 999458614         & 0                 & 0                 & 0                 & 0                 & 0                 & 1                 & 2                 & 0                 & 1                 & 1                 & real             \\\\\n",
       "\t 999475920         & 0                 & 0                 & 0                 & 0                 & 0                 & 0                 & 0                 & 0                 & 0                 & 1                 & real             \\\\\n",
       "\t 99948350484381697 & 0                 & 0                 & 1                 & 0                 & 0                 & 0                 & 1                 & 0                 & 0                 & 1                 & real             \\\\\n",
       "\t 99949142712918017 & 0                 & 1                 & 2                 & 1                 & 2                 & 0                 & 0                 & 1                 & 0                 & 0                 & real             \\\\\n",
       "\t 99953361541005312 & 0                 & 0                 & 0                 & 0                 & 0                 & 0                 & 0                 & 0                 & 0                 & 2                 & real             \\\\\n",
       "\t 99958248064557057 & 1                 & 0                 & 0                 & 0                 & 0                 & 1                 & 1                 & 0                 & 1                 & 2                 & real             \\\\\n",
       "\t 9996364068        & 0                 & 0                 & 0                 & 0                 & 0                 & 0                 & 1                 & 0                 & 0                 & 0                 & real             \\\\\n",
       "\t 999682705         & 0                 & 0                 & 0                 & 0                 & 0                 & 0                 & 1                 & 0                 & 0                 & 0                 & real             \\\\\n",
       "\t 99973790699753473 & 0                 & 0                 & 0                 & 0                 & 0                 & 0                 & 1                 & 0                 & 0                 & 0                 & real             \\\\\n",
       "\t 9998069706        & 0                 & 0                 & 1                 & 0                 & 1                 & 0                 & 0                 & 0                 & 0                 & 0                 & real             \\\\\n",
       "\t 9998131050        & 1                 & 0                 & 0                 & 0                 & 0                 & 0                 & 1                 & 0                 & 0                 & 0                 & real             \\\\\n",
       "\t 99986578054717440 & 0                 & 1                 & 1                 & 1                 & 1                 & 0                 & 0                 & 1                 & 0                 & 0                 & real             \\\\\n",
       "\\end{tabular}\n"
      ],
      "text/markdown": [
       "\n",
       "id | trust | fear | negative | sadness | anger | surprise | positive | disgust | joy | anticipation | realFAKEcat | \n",
       "|---|---|---|---|---|---|---|---|---|---|---|---|---|---|---|---|---|---|---|---|---|---|---|---|---|---|---|---|---|---|---|---|---|---|---|---|---|---|---|---|---|---|---|---|---|---|---|---|---|---|---|---|---|---|---|---|---|---|---|---|---|\n",
       "| 79932896 | 1        | 0        | 0        | 0        | 0        | 1        | 1        | 1        | 1        | 1        | fakeBOT  | \n",
       "| 79932963 | 0        | 0        | 1        | 1        | 0        | 0        | 0        | 0        | 0        | 0        | fakeBOT  | \n",
       "| 79933142 | 0        | 0        | 0        | 0        | 0        | 0        | 1        | 0        | 0        | 0        | fakeBOT  | \n",
       "| 80053480 | 0        | 0        | 0        | 0        | 0        | 0        | 2        | 0        | 0        | 0        | fakeBOT  | \n",
       "| 80161319 | 0        | 1        | 1        | 0        | 0        | 0        | 1        | 1        | 0        | 0        | fakeBOT  | \n",
       "| 80162827 | 1        | 0        | 0        | 0        | 0        | 0        | 1        | 0        | 1        | 1        | fakeBOT  | \n",
       "| 80559322 | 0        | 1        | 1        | 1        | 1        | 0        | 1        | 0        | 0        | 0        | fakeBOT  | \n",
       "| 80608082 | 1        | 0        | 0        | 0        | 0        | 0        | 1        | 0        | 0        | 1        | fakeBOT  | \n",
       "| 80615798 | 0        | 1        | 0        | 0        | 0        | 0        | 0        | 0        | 0        | 1        | fakeBOT  | \n",
       "| 80615987 | 1        | 1        | 0        | 0        | 0        | 0        | 1        | 0        | 0        | 2        | fakeBOT  | \n",
       "| 80626723 | 0        | 0        | 0        | 0        | 0        | 0        | 1        | 0        | 0        | 0        | fakeBOT  | \n",
       "| 80804895 | 0        | 1        | 0        | 0        | 0        | 0        | 0        | 0        | 0        | 1        | fakeBOT  | \n",
       "| 80913451 | 0        | 1        | 1        | 0        | 1        | 1        | 0        | 0        | 0        | 0        | fakeBOT  | \n",
       "| 81001802 | 1        | 1        | 0        | 0        | 0        | 1        | 1        | 0        | 1        | 1        | fakeBOT  | \n",
       "| 81128945 | 0        | 0        | 1        | 0        | 1        | 0        | 1        | 0        | 1        | 1        | fakeBOT  | \n",
       "| 81164188 | 0        | 0        | 1        | 0        | 0        | 0        | 1        | 0        | 0        | 0        | fakeBOT  | \n",
       "| 81267526 | 1        | 0        | 0        | 0        | 1        | 0        | 1        | 0        | 0        | 1        | fakeBOT  | \n",
       "| 81451047 | 2        | 0        | 0        | 0        | 0        | 0        | 3        | 0        | 2        | 1        | fakeBOT  | \n",
       "| 81463517 | 3        | 3        | 2        | 2        | 2        | 1        | 5        | 0        | 3        | 2        | fakeBOT  | \n",
       "| 81465570 | 0        | 1        | 0        | 0        | 0        | 0        | 0        | 0        | 0        | 1        | fakeBOT  | \n",
       "| 81553620 | 1        | 0        | 0        | 0        | 0        | 0        | 2        | 0        | 0        | 0        | fakeBOT  | \n",
       "| 81639001 | 2        | 0        | 0        | 0        | 0        | 0        | 3        | 0        | 0        | 2        | fakeBOT  | \n",
       "| 82119126 | 0        | 1        | 0        | 0        | 0        | 0        | 1        | 0        | 0        | 0        | fakeBOT  | \n",
       "| 82139098 | 0        | 0        | 0        | 0        | 0        | 0        | 1        | 0        | 0        | 0        | fakeBOT  | \n",
       "| 82308187 | 1        | 0        | 0        | 0        | 1        | 1        | 1        | 0        | 1        | 1        | fakeBOT  | \n",
       "| 82314232 | 0        | 0        | 0        | 0        | 0        | 1        | 0        | 0        | 0        | 0        | fakeBOT  | \n",
       "| 82368322 | 0        | 2        | 3        | 2        | 1        | 0        | 0        | 1        | 0        | 0        | fakeBOT  | \n",
       "| 82368536 | 0        | 0        | 0        | 0        | 0        | 1        | 0        | 0        | 0        | 0        | fakeBOT  | \n",
       "| 82432980 | 1        | 1        | 0        | 0        | 0        | 0        | 1        | 0        | 0        | 0        | fakeBOT  | \n",
       "| 82433089 | 1        | 0        | 0        | 0        | 0        | 0        | 2        | 0        | 0        | 0        | fakeBOT  | \n",
       "| ⋮ | ⋮ | ⋮ | ⋮ | ⋮ | ⋮ | ⋮ | ⋮ | ⋮ | ⋮ | ⋮ | ⋮ | \n",
       "| 99892075553763329 | 1                 | 0                 | 0                 | 0                 | 0                 | 0                 | 0                 | 0                 | 0                 | 1                 | real              | \n",
       "| 99892864728834048 | 0                 | 0                 | 0                 | 0                 | 0                 | 0                 | 1                 | 0                 | 1                 | 0                 | real              | \n",
       "| 99893394159050752 | 0                 | 0                 | 0                 | 0                 | 0                 | 0                 | 0                 | 1                 | 0                 | 0                 | real              | \n",
       "| 99895706571116544 | 1                 | 0                 | 0                 | 0                 | 0                 | 1                 | 1                 | 0                 | 1                 | 1                 | real              | \n",
       "| 99896158566096896 | 0                 | 0                 | 0                 | 0                 | 0                 | 0                 | 1                 | 0                 | 0                 | 0                 | real              | \n",
       "| 99898235065339904 | 0                 | 1                 | 1                 | 1                 | 1                 | 0                 | 0                 | 1                 | 0                 | 0                 | real              | \n",
       "| 99899088346152961 | 1                 | 0                 | 0                 | 0                 | 0                 | 0                 | 1                 | 0                 | 0                 | 1                 | real              | \n",
       "| 99902661935104002 | 1                 | 0                 | 1                 | 0                 | 0                 | 0                 | 0                 | 0                 | 0                 | 0                 | real              | \n",
       "| 999098069         | 0                 | 0                 | 0                 | 0                 | 0                 | 0                 | 0                 | 0                 | 0                 | 1                 | real              | \n",
       "| 9991511556        | 0                 | 1                 | 1                 | 0                 | 1                 | 1                 | 0                 | 0                 | 0                 | 0                 | real              | \n",
       "| 99916019371474944 | 1                 | 0                 | 0                 | 0                 | 0                 | 0                 | 0                 | 0                 | 0                 | 1                 | real              | \n",
       "| 9991845064        | 0                 | 1                 | 1                 | 1                 | 0                 | 0                 | 0                 | 0                 | 0                 | 0                 | real              | \n",
       "| 99921540782632961 | 0                 | 0                 | 0                 | 0                 | 0                 | 0                 | 1                 | 0                 | 0                 | 0                 | real              | \n",
       "| 9992920426        | 1                 | 0                 | 0                 | 0                 | 0                 | 0                 | 1                 | 0                 | 0                 | 0                 | real              | \n",
       "| 999335623         | 1                 | 0                 | 0                 | 0                 | 0                 | 0                 | 0                 | 0                 | 0                 | 0                 | real              | \n",
       "| 9993556940        | 2                 | 0                 | 0                 | 0                 | 0                 | 0                 | 1                 | 0                 | 1                 | 1                 | real              | \n",
       "| 999454921         | 1                 | 0                 | 0                 | 0                 | 0                 | 0                 | 1                 | 0                 | 1                 | 0                 | real              | \n",
       "| 99945739437879296 | 0                 | 0                 | 0                 | 0                 | 0                 | 1                 | 1                 | 0                 | 0                 | 0                 | real              | \n",
       "| 999458614         | 0                 | 0                 | 0                 | 0                 | 0                 | 1                 | 2                 | 0                 | 1                 | 1                 | real              | \n",
       "| 999475920         | 0                 | 0                 | 0                 | 0                 | 0                 | 0                 | 0                 | 0                 | 0                 | 1                 | real              | \n",
       "| 99948350484381697 | 0                 | 0                 | 1                 | 0                 | 0                 | 0                 | 1                 | 0                 | 0                 | 1                 | real              | \n",
       "| 99949142712918017 | 0                 | 1                 | 2                 | 1                 | 2                 | 0                 | 0                 | 1                 | 0                 | 0                 | real              | \n",
       "| 99953361541005312 | 0                 | 0                 | 0                 | 0                 | 0                 | 0                 | 0                 | 0                 | 0                 | 2                 | real              | \n",
       "| 99958248064557057 | 1                 | 0                 | 0                 | 0                 | 0                 | 1                 | 1                 | 0                 | 1                 | 2                 | real              | \n",
       "| 9996364068        | 0                 | 0                 | 0                 | 0                 | 0                 | 0                 | 1                 | 0                 | 0                 | 0                 | real              | \n",
       "| 999682705         | 0                 | 0                 | 0                 | 0                 | 0                 | 0                 | 1                 | 0                 | 0                 | 0                 | real              | \n",
       "| 99973790699753473 | 0                 | 0                 | 0                 | 0                 | 0                 | 0                 | 1                 | 0                 | 0                 | 0                 | real              | \n",
       "| 9998069706        | 0                 | 0                 | 1                 | 0                 | 1                 | 0                 | 0                 | 0                 | 0                 | 0                 | real              | \n",
       "| 9998131050        | 1                 | 0                 | 0                 | 0                 | 0                 | 0                 | 1                 | 0                 | 0                 | 0                 | real              | \n",
       "| 99986578054717440 | 0                 | 1                 | 1                 | 1                 | 1                 | 0                 | 0                 | 1                 | 0                 | 0                 | real              | \n",
       "\n",
       "\n"
      ],
      "text/plain": [
       "        id                trust fear negative sadness anger surprise positive\n",
       "1       79932896          1     0    0        0       0     1        1       \n",
       "2       79932963          0     0    1        1       0     0        0       \n",
       "3       79933142          0     0    0        0       0     0        1       \n",
       "4       80053480          0     0    0        0       0     0        2       \n",
       "5       80161319          0     1    1        0       0     0        1       \n",
       "6       80162827          1     0    0        0       0     0        1       \n",
       "7       80559322          0     1    1        1       1     0        1       \n",
       "8       80608082          1     0    0        0       0     0        1       \n",
       "9       80615798          0     1    0        0       0     0        0       \n",
       "10      80615987          1     1    0        0       0     0        1       \n",
       "11      80626723          0     0    0        0       0     0        1       \n",
       "12      80804895          0     1    0        0       0     0        0       \n",
       "13      80913451          0     1    1        0       1     1        0       \n",
       "14      81001802          1     1    0        0       0     1        1       \n",
       "15      81128945          0     0    1        0       1     0        1       \n",
       "16      81164188          0     0    1        0       0     0        1       \n",
       "17      81267526          1     0    0        0       1     0        1       \n",
       "18      81451047          2     0    0        0       0     0        3       \n",
       "19      81463517          3     3    2        2       2     1        5       \n",
       "20      81465570          0     1    0        0       0     0        0       \n",
       "21      81553620          1     0    0        0       0     0        2       \n",
       "22      81639001          2     0    0        0       0     0        3       \n",
       "23      82119126          0     1    0        0       0     0        1       \n",
       "24      82139098          0     0    0        0       0     0        1       \n",
       "25      82308187          1     0    0        0       1     1        1       \n",
       "26      82314232          0     0    0        0       0     1        0       \n",
       "27      82368322          0     2    3        2       1     0        0       \n",
       "28      82368536          0     0    0        0       0     1        0       \n",
       "29      82432980          1     1    0        0       0     0        1       \n",
       "30      82433089          1     0    0        0       0     0        2       \n",
       "⋮       ⋮                 ⋮     ⋮    ⋮        ⋮       ⋮     ⋮        ⋮       \n",
       "3041261 99892075553763329 1     0    0        0       0     0        0       \n",
       "3041262 99892864728834048 0     0    0        0       0     0        1       \n",
       "3041263 99893394159050752 0     0    0        0       0     0        0       \n",
       "3041264 99895706571116544 1     0    0        0       0     1        1       \n",
       "3041265 99896158566096896 0     0    0        0       0     0        1       \n",
       "3041266 99898235065339904 0     1    1        1       1     0        0       \n",
       "3041267 99899088346152961 1     0    0        0       0     0        1       \n",
       "3041268 99902661935104002 1     0    1        0       0     0        0       \n",
       "3041269 999098069         0     0    0        0       0     0        0       \n",
       "3041270 9991511556        0     1    1        0       1     1        0       \n",
       "3041271 99916019371474944 1     0    0        0       0     0        0       \n",
       "3041272 9991845064        0     1    1        1       0     0        0       \n",
       "3041273 99921540782632961 0     0    0        0       0     0        1       \n",
       "3041274 9992920426        1     0    0        0       0     0        1       \n",
       "3041275 999335623         1     0    0        0       0     0        0       \n",
       "3041276 9993556940        2     0    0        0       0     0        1       \n",
       "3041277 999454921         1     0    0        0       0     0        1       \n",
       "3041278 99945739437879296 0     0    0        0       0     1        1       \n",
       "3041279 999458614         0     0    0        0       0     1        2       \n",
       "3041280 999475920         0     0    0        0       0     0        0       \n",
       "3041281 99948350484381697 0     0    1        0       0     0        1       \n",
       "3041282 99949142712918017 0     1    2        1       2     0        0       \n",
       "3041283 99953361541005312 0     0    0        0       0     0        0       \n",
       "3041284 99958248064557057 1     0    0        0       0     1        1       \n",
       "3041285 9996364068        0     0    0        0       0     0        1       \n",
       "3041286 999682705         0     0    0        0       0     0        1       \n",
       "3041287 99973790699753473 0     0    0        0       0     0        1       \n",
       "3041288 9998069706        0     0    1        0       1     0        0       \n",
       "3041289 9998131050        1     0    0        0       0     0        1       \n",
       "3041290 99986578054717440 0     1    1        1       1     0        0       \n",
       "        disgust joy anticipation realFAKEcat\n",
       "1       1       1   1            fakeBOT    \n",
       "2       0       0   0            fakeBOT    \n",
       "3       0       0   0            fakeBOT    \n",
       "4       0       0   0            fakeBOT    \n",
       "5       1       0   0            fakeBOT    \n",
       "6       0       1   1            fakeBOT    \n",
       "7       0       0   0            fakeBOT    \n",
       "8       0       0   1            fakeBOT    \n",
       "9       0       0   1            fakeBOT    \n",
       "10      0       0   2            fakeBOT    \n",
       "11      0       0   0            fakeBOT    \n",
       "12      0       0   1            fakeBOT    \n",
       "13      0       0   0            fakeBOT    \n",
       "14      0       1   1            fakeBOT    \n",
       "15      0       1   1            fakeBOT    \n",
       "16      0       0   0            fakeBOT    \n",
       "17      0       0   1            fakeBOT    \n",
       "18      0       2   1            fakeBOT    \n",
       "19      0       3   2            fakeBOT    \n",
       "20      0       0   1            fakeBOT    \n",
       "21      0       0   0            fakeBOT    \n",
       "22      0       0   2            fakeBOT    \n",
       "23      0       0   0            fakeBOT    \n",
       "24      0       0   0            fakeBOT    \n",
       "25      0       1   1            fakeBOT    \n",
       "26      0       0   0            fakeBOT    \n",
       "27      1       0   0            fakeBOT    \n",
       "28      0       0   0            fakeBOT    \n",
       "29      0       0   0            fakeBOT    \n",
       "30      0       0   0            fakeBOT    \n",
       "⋮       ⋮       ⋮   ⋮            ⋮          \n",
       "3041261 0       0   1            real       \n",
       "3041262 0       1   0            real       \n",
       "3041263 1       0   0            real       \n",
       "3041264 0       1   1            real       \n",
       "3041265 0       0   0            real       \n",
       "3041266 1       0   0            real       \n",
       "3041267 0       0   1            real       \n",
       "3041268 0       0   0            real       \n",
       "3041269 0       0   1            real       \n",
       "3041270 0       0   0            real       \n",
       "3041271 0       0   1            real       \n",
       "3041272 0       0   0            real       \n",
       "3041273 0       0   0            real       \n",
       "3041274 0       0   0            real       \n",
       "3041275 0       0   0            real       \n",
       "3041276 0       1   1            real       \n",
       "3041277 0       1   0            real       \n",
       "3041278 0       0   0            real       \n",
       "3041279 0       1   1            real       \n",
       "3041280 0       0   1            real       \n",
       "3041281 0       0   1            real       \n",
       "3041282 1       0   0            real       \n",
       "3041283 0       0   2            real       \n",
       "3041284 0       1   2            real       \n",
       "3041285 0       0   0            real       \n",
       "3041286 0       0   0            real       \n",
       "3041287 0       0   0            real       \n",
       "3041288 0       0   0            real       \n",
       "3041289 0       0   0            real       \n",
       "3041290 1       0   0            real       "
      ]
     },
     "metadata": {},
     "output_type": "display_data"
    }
   ],
   "source": [
    "nrcSCORES"
   ]
  },
  {
   "cell_type": "markdown",
   "metadata": {},
   "source": [
    "### Generate fake and real tables\n",
    "\n",
    "We now create two versions of this **_Tweet-Emotion Matrix_**, one with only fake tweets and the other with only real tweets.\n",
    "\n",
    "> For the fake tweets:"
   ]
  },
  {
   "cell_type": "code",
   "execution_count": 26,
   "metadata": {
    "collapsed": true
   },
   "outputs": [],
   "source": [
    "fakeNRCscores <- filter(nrcSCORES, realFAKEcat == 'fakeBOT')"
   ]
  },
  {
   "cell_type": "markdown",
   "metadata": {},
   "source": [
    "and then for the real tweets"
   ]
  },
  {
   "cell_type": "code",
   "execution_count": 27,
   "metadata": {
    "collapsed": true
   },
   "outputs": [],
   "source": [
    "realNRCscores <- filter(nrcSCORES, realFAKEcat == 'real')"
   ]
  },
  {
   "cell_type": "markdown",
   "metadata": {},
   "source": [
    "### Export tables\n",
    "\n",
    "We now export the complete processed tables for fake tweets, real tweets, and all tweets.\n",
    "\n",
    "> Starting with the fake tweets:"
   ]
  },
  {
   "cell_type": "code",
   "execution_count": 28,
   "metadata": {
    "collapsed": true
   },
   "outputs": [],
   "source": [
    "write.table(fakeNRCscores, \"fakeNRCscores.csv\", sep=\",\")"
   ]
  },
  {
   "cell_type": "markdown",
   "metadata": {},
   "source": [
    "> and continuing with the real tweets:"
   ]
  },
  {
   "cell_type": "code",
   "execution_count": 29,
   "metadata": {
    "collapsed": true
   },
   "outputs": [],
   "source": [
    "write.table(realNRCscores, \"realNRCscores.csv\", sep=\",\")"
   ]
  },
  {
   "cell_type": "markdown",
   "metadata": {},
   "source": [
    "> and finishing with all tweets:"
   ]
  },
  {
   "cell_type": "code",
   "execution_count": 30,
   "metadata": {
    "collapsed": true
   },
   "outputs": [],
   "source": [
    "write.table(nrcSCORES, \"NRCscores.csv\", sep=\",\")"
   ]
  },
  {
   "cell_type": "markdown",
   "metadata": {},
   "source": [
    "## Random Sampling Indicies Generation\n",
    "\n",
    "We now need to generate sets containing random indicies of elements in our data so that we can sample our data for training and testing purposes.  We will create 4 paired sets of indicies, with two pairs of sets being for training and the remaining 2 sets being for testing.  These pairs of indicies are\n",
    "* __PAIR 1 :__ Has a total size of 50,000 between the pair of sets.  The first set in the pair is for 25,000 real tweets, while the second set is for 25,000 fake tweets.  This pair of sets is for training\n",
    "* __PAIR 2 :__ Has a total size of 10,000 between the pair of sets.  The first set in the pair is for 5,000 real tweets, while the second set is for 5,000 fake tweets. This pair of sets if for training\n",
    "* __PAIR 3 :__ Has a total size of 15,000 and randomly contains any tweet in the database.  This set is for testing\n",
    "* __PAIR 4 :__ Has a total size of 5,000 and randomly contains any tweet in the database.  This set is for testing\n",
    "\n",
    "### *PAIR 1*\n",
    "\n",
    "> Seeding the RNG and generating the first pair of index sets:"
   ]
  },
  {
   "cell_type": "code",
   "execution_count": 31,
   "metadata": {},
   "outputs": [],
   "source": [
    "set.seed(runif(1,1,10000))\n",
    "fakeTrainInd1 <- sample(1:nrow(fakeNRCscores), 25000)\n",
    "\n",
    "set.seed(runif(1,1,10000))\n",
    "realTrainInd1 <- sample(1:nrow(realNRCscores), 25000)"
   ]
  },
  {
   "cell_type": "markdown",
   "metadata": {},
   "source": [
    "Writing the first pair of index sets to file:"
   ]
  },
  {
   "cell_type": "code",
   "execution_count": 32,
   "metadata": {
    "collapsed": true
   },
   "outputs": [],
   "source": [
    "write.table(fakeTrainInd1, \"fakeTrainInd1b.txt\")\n",
    "\n",
    "write.table(realTrainInd1, \"realTrainInd1b.txt\")"
   ]
  },
  {
   "cell_type": "markdown",
   "metadata": {},
   "source": [
    "### PAIR 2\n",
    "\n",
    "> Seeding the RNG and generating the second pair of index sets:"
   ]
  },
  {
   "cell_type": "code",
   "execution_count": 33,
   "metadata": {
    "collapsed": true
   },
   "outputs": [],
   "source": [
    "set.seed(runif(1,1,10000))\n",
    "fakeTrainInd2 <- sample(1:nrow(fakeNRCscores), 5000)\n",
    "\n",
    "set.seed(runif(1,1,10000))\n",
    "realTrainInd2 <- sample(1:nrow(realNRCscores), 5000)"
   ]
  },
  {
   "cell_type": "markdown",
   "metadata": {},
   "source": [
    "> Writing the second pair of index sets to file:"
   ]
  },
  {
   "cell_type": "code",
   "execution_count": 34,
   "metadata": {
    "collapsed": true
   },
   "outputs": [],
   "source": [
    "write.table(fakeTrainInd2, \"fakeTrainInd2b.txt\")\n",
    "\n",
    "write.table(realTrainInd2, \"realTrainInd2b.txt\")"
   ]
  },
  {
   "cell_type": "markdown",
   "metadata": {},
   "source": [
    "### PAIR 3\n",
    "\n",
    "> Seeding the RNG and generating the first index set for testing:"
   ]
  },
  {
   "cell_type": "code",
   "execution_count": 35,
   "metadata": {
    "collapsed": true
   },
   "outputs": [],
   "source": [
    "set.seed(runif(1,1,10000))\n",
    "testInd1 <- sample(1:nrow(nrcSCORES), 15000)"
   ]
  },
  {
   "cell_type": "markdown",
   "metadata": {},
   "source": [
    "> write the first index set for testing to a file"
   ]
  },
  {
   "cell_type": "code",
   "execution_count": 36,
   "metadata": {
    "collapsed": true
   },
   "outputs": [],
   "source": [
    "write.table(testInd1, \"testInd1b.txt\")"
   ]
  },
  {
   "cell_type": "markdown",
   "metadata": {},
   "source": [
    "### PAIR 4\n",
    "\n",
    "> Seeding the RNG and generating the second index set for testing:"
   ]
  },
  {
   "cell_type": "code",
   "execution_count": 37,
   "metadata": {
    "collapsed": true
   },
   "outputs": [],
   "source": [
    "set.seed(runif(1,1,10000))\n",
    "testInd2 <- sample(1:nrow(nrcSCORES), 5000)"
   ]
  },
  {
   "cell_type": "markdown",
   "metadata": {},
   "source": [
    "> write the second index set for testing to a file"
   ]
  },
  {
   "cell_type": "code",
   "execution_count": 38,
   "metadata": {
    "collapsed": true
   },
   "outputs": [],
   "source": [
    "write.table(testInd2, \"testInd2b.txt\")"
   ]
  },
  {
   "cell_type": "markdown",
   "metadata": {},
   "source": [
    "## Export Sampled Data\n",
    "\n",
    "We can now use that previously created sampling indices to selected subsets of our overall dataset which we can then write to files.\n",
    "\n",
    "> Selecting data subsets using the first training sets:"
   ]
  },
  {
   "cell_type": "code",
   "execution_count": 39,
   "metadata": {
    "collapsed": true
   },
   "outputs": [],
   "source": [
    "fakeTrainData1 <- fakeNRCscores[fakeTrainInd1, ]\n",
    "\n",
    "realTrainData1 <- realNRCscores[realTrainInd1, ]"
   ]
  },
  {
   "cell_type": "markdown",
   "metadata": {},
   "source": [
    "> Storing these data subsets containing the first training sets, buy writing them to files:"
   ]
  },
  {
   "cell_type": "code",
   "execution_count": 40,
   "metadata": {
    "collapsed": true
   },
   "outputs": [],
   "source": [
    "write.table(fakeTrainData1, \"fakeTrainData1b.csv\", sep=\",\")\n",
    "\n",
    "write.table(realTrainData1, \"realTrainData1b.csv\", sep=\",\")"
   ]
  },
  {
   "cell_type": "markdown",
   "metadata": {},
   "source": [
    "> Selecting data subsets using the second training sets:"
   ]
  },
  {
   "cell_type": "code",
   "execution_count": 41,
   "metadata": {
    "collapsed": true
   },
   "outputs": [],
   "source": [
    "fakeTrainData2 <- fakeNRCscores[fakeTrainInd2, ]\n",
    "\n",
    "realTrainData2 <- realNRCscores[realTrainInd2, ]"
   ]
  },
  {
   "cell_type": "markdown",
   "metadata": {},
   "source": [
    "> Storing these data subsets containing the second training sets, buy writing them to files:"
   ]
  },
  {
   "cell_type": "code",
   "execution_count": 42,
   "metadata": {
    "collapsed": true
   },
   "outputs": [],
   "source": [
    "write.table(fakeTrainData2, \"fakeTrainData2b.csv\", sep=\",\")\n",
    "\n",
    "write.table(realTrainData2, \"realTrainData2b.csv\", sep=\",\")"
   ]
  },
  {
   "cell_type": "markdown",
   "metadata": {},
   "source": [
    "> Selecting data subsets using the first testing set:"
   ]
  },
  {
   "cell_type": "code",
   "execution_count": 43,
   "metadata": {
    "collapsed": true
   },
   "outputs": [],
   "source": [
    "testData1 <- nrcSCORES[testInd1, ]"
   ]
  },
  {
   "cell_type": "markdown",
   "metadata": {},
   "source": [
    "> Storing this data subset containing the first testing set, "
   ]
  },
  {
   "cell_type": "code",
   "execution_count": 44,
   "metadata": {
    "collapsed": true
   },
   "outputs": [],
   "source": [
    "write.table(testData1, \"testData1b.csv\", sep=\",\")"
   ]
  },
  {
   "cell_type": "markdown",
   "metadata": {},
   "source": [
    "> Selecting data subsets using the second testing set:"
   ]
  },
  {
   "cell_type": "code",
   "execution_count": 45,
   "metadata": {
    "collapsed": true
   },
   "outputs": [],
   "source": [
    "testData2 <- nrcSCORES[testInd2, ]"
   ]
  },
  {
   "cell_type": "markdown",
   "metadata": {},
   "source": [
    "> Storing this data subset containing the first testing set, "
   ]
  },
  {
   "cell_type": "code",
   "execution_count": 46,
   "metadata": {
    "collapsed": true
   },
   "outputs": [],
   "source": [
    "write.table(testData2, \"testData2b.csv\", sep=\",\")"
   ]
  },
  {
   "cell_type": "code",
   "execution_count": null,
   "metadata": {
    "collapsed": true
   },
   "outputs": [],
   "source": []
  }
 ],
 "metadata": {
  "kernelspec": {
   "display_name": "R",
   "language": "R",
   "name": "ir"
  },
  "language_info": {
   "codemirror_mode": "r",
   "file_extension": ".r",
   "mimetype": "text/x-r-source",
   "name": "R",
   "pygments_lexer": "r",
   "version": "3.4.2"
  }
 },
 "nbformat": 4,
 "nbformat_minor": 2
}
