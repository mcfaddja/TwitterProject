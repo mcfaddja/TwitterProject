{
 "cells": [
  {
   "cell_type": "markdown",
   "metadata": {},
   "source": [
    "# *OLD* Logistic Regression"
   ]
  },
  {
   "cell_type": "code",
   "execution_count": 8,
   "metadata": {
    "collapsed": true
   },
   "outputs": [],
   "source": [
    "fakeTrainData0 = read.csv(\"fakeTrainData1b.csv\")\n",
    "realTrainData0 = read.csv(\"realTrainData1b.csv\")\n",
    "fakeTrainData1 <- fakeTrainData0\n",
    "realTrainData1 <- realTrainData0\n",
    "fakeTrainData1$last <- as.numeric(0)\n",
    "realTrainData1$last <- as.numeric(1)\n",
    "trainData1 = sample(rbind(fakeTrainData1, realTrainData1))"
   ]
  },
  {
   "cell_type": "code",
   "execution_count": 9,
   "metadata": {
    "collapsed": true
   },
   "outputs": [],
   "source": [
    "#I mix <real> and <fake> together\n",
    "set.seed(99)\n",
    "trainData1 = trainData1[sample(nrow(trainData1)),]"
   ]
  },
  {
   "cell_type": "code",
   "execution_count": 10,
   "metadata": {
    "collapsed": true
   },
   "outputs": [],
   "source": [
    "k = 5 # number of folds\n",
    "n = floor(nrow(trainData1)/k)"
   ]
  },
  {
   "cell_type": "code",
   "execution_count": 11,
   "metadata": {
    "collapsed": true
   },
   "outputs": [],
   "source": [
    "recall.vect = rep(NA,k)\n",
    "precision.vect= rep(NA,k)\n",
    "accu.vect = rep(NA,k)"
   ]
  },
  {
   "cell_type": "code",
   "execution_count": 12,
   "metadata": {
    "collapsed": true
   },
   "outputs": [],
   "source": [
    "#choose features; play with threshold; randomForest parameter\n",
    "features=setdiff(colnames(trainData1),c(\"id\",\"realFAKEcat\",\"last\"))\n",
    "factor=\"last\"\n",
    "thresh = 0.5\n",
    "ntree=250"
   ]
  },
  {
   "cell_type": "code",
   "execution_count": 30,
   "metadata": {},
   "outputs": [
    {
     "name": "stderr",
     "output_type": "stream",
     "text": [
      "start fold:1\n",
      "Warning message:\n",
      "“glm.fit: algorithm did not converge”"
     ]
    },
    {
     "name": "stdout",
     "output_type": "stream",
     "text": [
      "   Min. 1st Qu.  Median    Mean 3rd Qu.    Max. \n",
      " 0.0000  0.0000  0.0000  0.4956  1.0000  1.0000 \n",
      "[1] \"AUC for fold 1 : NaN\"\n",
      "[1] \"Recall for fold 1 : NaN\"\n",
      "[1] \"Precision for fold 1 : NaN\"\n"
     ]
    },
    {
     "name": "stderr",
     "output_type": "stream",
     "text": [
      "start fold:2\n",
      "Warning message:\n",
      "“glm.fit: algorithm did not converge”"
     ]
    },
    {
     "name": "stdout",
     "output_type": "stream",
     "text": [
      "   Min. 1st Qu.  Median    Mean 3rd Qu.    Max. \n",
      " 0.0000  0.0000  1.0000  0.5018  1.0000  1.0000 \n",
      "[1] \"AUC for fold 2 : NaN\"\n",
      "[1] \"Recall for fold 2 : NaN\"\n",
      "[1] \"Precision for fold 2 : NaN\"\n"
     ]
    },
    {
     "name": "stderr",
     "output_type": "stream",
     "text": [
      "start fold:3\n",
      "Warning message:\n",
      "“glm.fit: algorithm did not converge”"
     ]
    },
    {
     "name": "stdout",
     "output_type": "stream",
     "text": [
      "   Min. 1st Qu.  Median    Mean 3rd Qu.    Max. \n",
      " 0.0000  0.0000  1.0000  0.5095  1.0000  1.0000 \n",
      "[1] \"AUC for fold 3 : NaN\"\n",
      "[1] \"Recall for fold 3 : NaN\"\n",
      "[1] \"Precision for fold 3 : NaN\"\n"
     ]
    },
    {
     "name": "stderr",
     "output_type": "stream",
     "text": [
      "start fold:4\n",
      "Warning message:\n",
      "“glm.fit: algorithm did not converge”"
     ]
    },
    {
     "name": "stdout",
     "output_type": "stream",
     "text": [
      "   Min. 1st Qu.  Median    Mean 3rd Qu.    Max. \n",
      " 0.0000  0.0000  0.0000  0.4936  1.0000  1.0000 \n",
      "[1] \"AUC for fold 4 : NaN\"\n",
      "[1] \"Recall for fold 4 : NaN\"\n",
      "[1] \"Precision for fold 4 : NaN\"\n"
     ]
    },
    {
     "name": "stderr",
     "output_type": "stream",
     "text": [
      "start fold:5\n",
      "Warning message:\n",
      "“glm.fit: algorithm did not converge”"
     ]
    },
    {
     "name": "stdout",
     "output_type": "stream",
     "text": [
      "   Min. 1st Qu.  Median    Mean 3rd Qu.    Max. \n",
      " 0.0000  0.0000  0.0000  0.4995  1.0000  1.0000 \n",
      "[1] \"AUC for fold 5 : NaN\"\n",
      "[1] \"Recall for fold 5 : NaN\"\n",
      "[1] \"Precision for fold 5 : NaN\"\n"
     ]
    }
   ],
   "source": [
    "library(randomForest)\n",
    "for(i in 1:k) {\n",
    " #i=1 \n",
    "  message(\"start fold\", \":\", i)\n",
    "  \n",
    "  s1 = ((i-1)* n+1)\n",
    "  s2 = (i*n)\n",
    "  subset = s1:s2\n",
    "  \n",
    "  cv.train = trainData1[-subset,]\n",
    "  cv.test = trainData1[subset,]\n",
    "  \n",
    "  RF_model = glm(cv.train$last ~. , cv.train[,-c(1,12)] , family = \"binomial\")\n",
    "  RF_pred = predict(RF_model,newdata = cv.test[,-c(1,12)], type=\"response\")\n",
    "\n",
    "    print(summary(RF_pred))\n",
    "tp = length(which(cv.test[, factor] == \"real\" & RF_pred >= thresh))\n",
    "fp = length(which(cv.test[, factor] == \"fake\" & RF_pred >= thresh))\n",
    "tn = length(which(cv.test[, factor] == \"fake\" & RF_pred < thresh))\n",
    "fn = length(which(cv.test[, factor] == \"real\" & RF_pred < thresh))\n",
    "precision = tp / (tp + fp)\n",
    "recall = tp / (tp + fn)\n",
    "accuracy = (tp + tn) / (tp + fp + tn + fn)\n",
    "\n",
    "accu.vect[i] = accuracy\n",
    "recall.vect[i] = recall\n",
    "precision.vect[i]= precision\n",
    "\n",
    "  print(paste(\"AUC for fold\", i, \":\",accu.vect[i]))\n",
    "  print(paste(\"Recall for fold\", i, \":\",recall.vect[i]))\n",
    "  print(paste(\"Precision for fold\", i, \":\",precision.vect[i]))\n",
    "\n",
    "} # end of for i loop"
   ]
  },
  {
   "cell_type": "code",
   "execution_count": null,
   "metadata": {
    "collapsed": true
   },
   "outputs": [],
   "source": []
  }
 ],
 "metadata": {
  "kernelspec": {
   "display_name": "R",
   "language": "R",
   "name": "ir"
  },
  "language_info": {
   "codemirror_mode": "r",
   "file_extension": ".r",
   "mimetype": "text/x-r-source",
   "name": "R",
   "pygments_lexer": "r",
   "version": "3.4.2"
  }
 },
 "nbformat": 4,
 "nbformat_minor": 2
}
