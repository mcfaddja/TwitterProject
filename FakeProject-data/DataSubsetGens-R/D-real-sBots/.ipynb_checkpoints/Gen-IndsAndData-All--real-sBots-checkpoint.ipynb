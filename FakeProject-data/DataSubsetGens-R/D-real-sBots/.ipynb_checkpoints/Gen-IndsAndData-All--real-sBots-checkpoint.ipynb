{
 "cells": [
  {
   "cell_type": "markdown",
   "metadata": {},
   "source": [
    "# Generate Indices & Create Sample Files:\n",
    "### *All Tweets* with only *real/sBot* categories\n",
    "\n",
    "#### This notebook generates indices for use in sampling the data as well as exports datasets from the corpus based on those indices.  The indices are exported as well.  Additionally, the data exproted by this notebook is only categorized as either **_real_** or **_fake_**.\n",
    "\n",
    "## Load the Date Files\n",
    "\n",
    "First, we store the file names (*and their locations*) of the files containing fake tweets in the string '**fileName0**' and the string array '**fileName**'[ ]."
   ]
  },
  {
   "cell_type": "code",
   "execution_count": 1,
   "metadata": {
    "collapsed": true
   },
   "outputs": [],
   "source": [
    "fileName0 = '../../datasetsFULLcsv/socialSpambots1csv/tweets.csv'\n",
    "\n",
    "fileNames = c('../../datasetsFULLcsv/socialSpambots2csv/tweets.csv', '../../datasetsFULLcsv/socialSpambots3csv/tweets.csv')"
   ]
  },
  {
   "cell_type": "markdown",
   "metadata": {},
   "source": [
    "Using the CSV file names previously specified in '**fileName0**' and '**fileNames**'[ ], we can now load the file into the _data.frame_( ) named '**fakeCSV**'. Additionally, from the '**fakeCSV**' and **_subsequent_** _data.frame_( ), we will create a smaller, simpler *data.frame*( ) named '**fakeTweets**'.  This reduction in size and complexity of '**fakeTweets**' is due to the fact that it only contains the ID number of the tweet in our database, along with the text of the tweet."
   ]
  },
  {
   "cell_type": "code",
   "execution_count": 2,
   "metadata": {},
   "outputs": [
    {
     "name": "stderr",
     "output_type": "stream",
     "text": [
      "Warning message in scan(file = file, what = what, sep = sep, quote = quote, dec = dec, :\n",
      "“embedded nul(s) found in input”Warning message in scan(file = file, what = what, sep = sep, quote = quote, dec = dec, :\n",
      "“embedded nul(s) found in input”Warning message in scan(file = file, what = what, sep = sep, quote = quote, dec = dec, :\n",
      "“embedded nul(s) found in input”"
     ]
    }
   ],
   "source": [
    "fakeCSV = read.csv(fileName0)\n",
    "fakeTweets <- data.frame(userID = fakeCSV$user_id, id = fakeCSV$id, text = fakeCSV$text)\n",
    "\n",
    "for (filename in fileNames) {\n",
    "    temp0 = read.csv(filename)\n",
    "    temp <- data.frame(userID = temp0$user_id, id = temp0$id, text = temp0$text)\n",
    "    fakeTweets <- rbind(fakeTweets, temp)\n",
    "}"
   ]
  },
  {
   "cell_type": "markdown",
   "metadata": {},
   "source": [
    "We now load the file containing real tweets into the _data.frame_( ) named '**realCSV**'."
   ]
  },
  {
   "cell_type": "code",
   "execution_count": 3,
   "metadata": {},
   "outputs": [
    {
     "name": "stderr",
     "output_type": "stream",
     "text": [
      "Warning message in scan(file = file, what = what, sep = sep, quote = quote, dec = dec, :\n",
      "“embedded nul(s) found in input”"
     ]
    }
   ],
   "source": [
    "realCSV = read.csv('../../datasetsFULLcsv/genuineAccountsCSV/tweets.csv')"
   ]
  },
  {
   "cell_type": "markdown",
   "metadata": {},
   "source": [
    "As with the '**fakeCSV**' _data.frame_( ), from the '**realCSV** _data.frame_( ), we will create two smaller, simpler *data.frame*( ) named '**realTweets**'.  This reduction in size and complexity of '**realTweets**' is due to the fact that it only contains the ID number of the tweet in our database, along with the text of the tweet.  "
   ]
  },
  {
   "cell_type": "code",
   "execution_count": 4,
   "metadata": {
    "collapsed": true
   },
   "outputs": [],
   "source": [
    "realTweets <- data.frame(id = realCSV$id, text = realCSV$text)"
   ]
  },
  {
   "cell_type": "markdown",
   "metadata": {},
   "source": [
    "The initial size of the imports are"
   ]
  },
  {
   "cell_type": "code",
   "execution_count": 5,
   "metadata": {},
   "outputs": [
    {
     "data": {
      "text/html": [
       "3457133"
      ],
      "text/latex": [
       "3457133"
      ],
      "text/markdown": [
       "3457133"
      ],
      "text/plain": [
       "[1] 3457133"
      ]
     },
     "metadata": {},
     "output_type": "display_data"
    },
    {
     "data": {
      "text/html": [
       "2839362"
      ],
      "text/latex": [
       "2839362"
      ],
      "text/markdown": [
       "2839362"
      ],
      "text/plain": [
       "[1] 2839362"
      ]
     },
     "metadata": {},
     "output_type": "display_data"
    }
   ],
   "source": [
    "nrow(fakeTweets)\n",
    "nrow(realTweets)"
   ]
  },
  {
   "cell_type": "markdown",
   "metadata": {},
   "source": [
    "## Clean the Data\n",
    "\n",
    "Now, we remove web URLs, twitter usernames, twitter hashtags, punctuation, and stand-alone numberic digits."
   ]
  },
  {
   "cell_type": "code",
   "execution_count": 6,
   "metadata": {
    "collapsed": true
   },
   "outputs": [],
   "source": [
    "# remove web URLs\n",
    "fakeTweets <- data.frame(id = fakeTweets$id, text = gsub(\"http[[:alnum:][:punct:]]*\", \"\", fakeTweets$text))\n",
    "realTweets <- data.frame(id = realTweets$id, text = gsub(\"http[[:alnum:][:punct:]]*\", \"\", realTweets$text))\n",
    "\n",
    "# remove twitter handles (@<username>)\n",
    "fakeTweets <- data.frame(id = fakeTweets$id, text = gsub(\"#[[:alnum:][:punct:]]*\", \"\", fakeTweets$text))\n",
    "realTweets <- data.frame(id = realTweets$id, text = gsub(\"#[[:alnum:][:punct:]]*\", \"\", realTweets$text))\n",
    "\n",
    "# remove hashtags (#<hashtag name>)\n",
    "fakeTweets <- data.frame(id = fakeTweets$id, text = gsub(\"@[[:alnum:][:punct:]]*\", \"\", fakeTweets$text))\n",
    "realTweets <- data.frame(id = realTweets$id, text = gsub(\"@[[:alnum:][:punct:]]*\", \"\", realTweets$text))\n",
    "\n",
    "# remove punctuation\n",
    "fakeTweets <- data.frame(id = fakeTweets$id, text = gsub('[[:punct:] ]+', ' ', fakeTweets$text))\n",
    "realTweets <- data.frame(id = realTweets$id, text = gsub('[[:punct:] ]+', ' ', realTweets$text))\n",
    "\n",
    "# remove numbers\n",
    "fakeTweets <- data.frame(id = fakeTweets$id, text = gsub(\"[0-9]\", \"\", fakeTweets$text))\n",
    "realTweets <- data.frame(id = realTweets$id, text = gsub(\"[0-9]\", \"\", realTweets$text))\n",
    "\n",
    "# convert to lowercase\n",
    "fakeTweets <- data.frame(id = fakeTweets$id, text = tolower(fakeTweets$text))\n",
    "realTweets <- data.frame(id = realTweets$id, text = tolower(realTweets$text))"
   ]
  },
  {
   "cell_type": "markdown",
   "metadata": {},
   "source": [
    "The number of tweets available after cleaning"
   ]
  },
  {
   "cell_type": "code",
   "execution_count": 7,
   "metadata": {},
   "outputs": [
    {
     "data": {
      "text/html": [
       "3457133"
      ],
      "text/latex": [
       "3457133"
      ],
      "text/markdown": [
       "3457133"
      ],
      "text/plain": [
       "[1] 3457133"
      ]
     },
     "metadata": {},
     "output_type": "display_data"
    },
    {
     "data": {
      "text/html": [
       "2839362"
      ],
      "text/latex": [
       "2839362"
      ],
      "text/markdown": [
       "2839362"
      ],
      "text/plain": [
       "[1] 2839362"
      ]
     },
     "metadata": {},
     "output_type": "display_data"
    }
   ],
   "source": [
    "nrow(fakeTweets)\n",
    "nrow(realTweets)"
   ]
  },
  {
   "cell_type": "markdown",
   "metadata": {},
   "source": [
    "### TidyText the Data File\n",
    "\n",
    "Now we must tokenize the text of each tweet using the '*tidytext*' and '*dplyr*' libraries.  To do this, the '*tidytext*' and '*dplyr*' libraries must be imported and the data frames type used to store both types of tweets converted to the data frame type from the '**dplyr**' library before the tweets can be tokenized. \n",
    "\n",
    "> First, we import the '*tidytext*' and '*dplyr*' libraries: "
   ]
  },
  {
   "cell_type": "code",
   "execution_count": 8,
   "metadata": {},
   "outputs": [
    {
     "name": "stderr",
     "output_type": "stream",
     "text": [
      "\n",
      "Attaching package: ‘dplyr’\n",
      "\n",
      "The following objects are masked from ‘package:stats’:\n",
      "\n",
      "    filter, lag\n",
      "\n",
      "The following objects are masked from ‘package:base’:\n",
      "\n",
      "    intersect, setdiff, setequal, union\n",
      "\n"
     ]
    }
   ],
   "source": [
    "library(dplyr)\n",
    "library(tidytext)"
   ]
  },
  {
   "cell_type": "markdown",
   "metadata": {},
   "source": [
    "> Then we convert the data frames of '**fakeTweets**' and '**realTweets**' to the data frame type from the '*dplyr*' library:"
   ]
  },
  {
   "cell_type": "code",
   "execution_count": 9,
   "metadata": {
    "collapsed": true
   },
   "outputs": [],
   "source": [
    "fakeTweets <- data_frame(id = fakeTweets$id, text = as.character(fakeTweets$text))\n",
    "realTweets <- data_frame(id = realTweets$id, text = as.character(realTweets$text))"
   ]
  },
  {
   "cell_type": "markdown",
   "metadata": {},
   "source": [
    "### Tokenization\n",
    "\n",
    "We now tokenize the text of the tweets, storing these tokens in new data frames (*from __dplyr__*). \n",
    "\n",
    "> For the fake tweets, we use the new data frame (*from __dplyr__*) '**fakeTweetTOKENS**':"
   ]
  },
  {
   "cell_type": "code",
   "execution_count": 10,
   "metadata": {
    "collapsed": true
   },
   "outputs": [],
   "source": [
    "fakeTweetsTOKENS <- fakeTweets %>%\n",
    "    unnest_tokens(word, text)"
   ]
  },
  {
   "cell_type": "markdown",
   "metadata": {},
   "source": [
    "> Similarly, we tokenize the text of the real tweets, them in the new data frame (*from __dplyr__*) '**realTweetTOKENS**'."
   ]
  },
  {
   "cell_type": "code",
   "execution_count": 11,
   "metadata": {
    "collapsed": true
   },
   "outputs": [],
   "source": [
    "realTweetsTOKENS <- realTweets %>%\n",
    "    unnest_tokens(word, text)"
   ]
  },
  {
   "cell_type": "markdown",
   "metadata": {},
   "source": [
    "### Remove '*Stop Words*'\n",
    "\n",
    "Now, we will remove any stop words from the text of the tweets.  To do this, we first import the '*stop_words*' dataset from the '*tidytext*' library.\n",
    "\n",
    "> Importing the '*stop_words*' dataset from the '*tidytext*' library:"
   ]
  },
  {
   "cell_type": "code",
   "execution_count": 12,
   "metadata": {
    "collapsed": true
   },
   "outputs": [],
   "source": [
    "data(stop_words)"
   ]
  },
  {
   "cell_type": "markdown",
   "metadata": {},
   "source": [
    "> Now, we use the '*anti_join*( )' function from the '*dplyr*' library to remove these stop words from the fake tweets"
   ]
  },
  {
   "cell_type": "code",
   "execution_count": 13,
   "metadata": {},
   "outputs": [
    {
     "name": "stderr",
     "output_type": "stream",
     "text": [
      "Joining, by = \"word\"\n"
     ]
    }
   ],
   "source": [
    "fakeTweetsTOKENS <- fakeTweetsTOKENS %>%\n",
    "    anti_join(stop_words)"
   ]
  },
  {
   "cell_type": "markdown",
   "metadata": {},
   "source": [
    "> and the real tweets"
   ]
  },
  {
   "cell_type": "code",
   "execution_count": 14,
   "metadata": {},
   "outputs": [
    {
     "name": "stderr",
     "output_type": "stream",
     "text": [
      "Joining, by = \"word\"\n"
     ]
    }
   ],
   "source": [
    "realTweetsTOKENS <- realTweetsTOKENS %>%\n",
    "    anti_join(stop_words)"
   ]
  },
  {
   "cell_type": "markdown",
   "metadata": {},
   "source": [
    "Number of fake and real tweet tokens is"
   ]
  },
  {
   "cell_type": "code",
   "execution_count": 15,
   "metadata": {},
   "outputs": [
    {
     "data": {
      "text/html": [
       "30595621"
      ],
      "text/latex": [
       "30595621"
      ],
      "text/markdown": [
       "30595621"
      ],
      "text/plain": [
       "[1] 30595621"
      ]
     },
     "metadata": {},
     "output_type": "display_data"
    },
    {
     "data": {
      "text/html": [
       "13654173"
      ],
      "text/latex": [
       "13654173"
      ],
      "text/markdown": [
       "13654173"
      ],
      "text/plain": [
       "[1] 13654173"
      ]
     },
     "metadata": {},
     "output_type": "display_data"
    }
   ],
   "source": [
    "nrow(fakeTweetsTOKENS)\n",
    "nrow(realTweetsTOKENS)"
   ]
  },
  {
   "cell_type": "markdown",
   "metadata": {},
   "source": [
    "## NRC Model\n",
    "\n",
    "We are first going to use the **NRC Sentiment Model** containing ten emotions associated with words.  Thus, we load the sentiments database for NRC followed by storing those ten emotions in their own dataframe."
   ]
  },
  {
   "cell_type": "code",
   "execution_count": 16,
   "metadata": {
    "collapsed": true
   },
   "outputs": [],
   "source": [
    "nrcWORDS <- get_sentiments(\"nrc\")\n",
    "nrcEMOTIONS <- unique(nrcWORDS$sentiment)"
   ]
  },
  {
   "cell_type": "markdown",
   "metadata": {},
   "source": [
    "### Associate Words with their Emotions\n",
    "\n",
    "Now, we generate data frames that associates the words in fake tweets with their associated emotions under the **NRC Model**.\n",
    "\n",
    "> First, for fake tweets"
   ]
  },
  {
   "cell_type": "code",
   "execution_count": 17,
   "metadata": {},
   "outputs": [
    {
     "name": "stderr",
     "output_type": "stream",
     "text": [
      "Joining, by = \"word\"\n",
      "Joining, by = \"id\"\n",
      "Joining, by = \"word\"\n",
      "Joining, by = c(\"id\", \"word\", \"sentiment\")\n",
      "Joining, by = \"word\"\n",
      "Joining, by = c(\"id\", \"word\", \"sentiment\")\n",
      "Joining, by = \"word\"\n",
      "Joining, by = c(\"id\", \"word\", \"sentiment\")\n",
      "Joining, by = \"word\"\n",
      "Joining, by = c(\"id\", \"word\", \"sentiment\")\n",
      "Joining, by = \"word\"\n",
      "Joining, by = c(\"id\", \"word\", \"sentiment\")\n",
      "Joining, by = \"word\"\n",
      "Joining, by = c(\"id\", \"word\", \"sentiment\")\n",
      "Joining, by = \"word\"\n",
      "Joining, by = c(\"id\", \"word\", \"sentiment\")\n",
      "Joining, by = \"word\"\n",
      "Joining, by = c(\"id\", \"word\", \"sentiment\")\n",
      "Joining, by = \"word\"\n",
      "Joining, by = c(\"id\", \"word\", \"sentiment\")\n"
     ]
    }
   ],
   "source": [
    "# initial data.frame() to hold the processed data\n",
    "#   with an initial value for ID to make full_join()s possible\n",
    "fakeTweetsNRCsentiment <- data.frame(id = 0)\n",
    "\n",
    "# loop though the emotions\n",
    "for (emotion in nrcEMOTIONS){\n",
    "    fakeTweetsNRCsentiment0 <- inner_join(fakeTweetsTOKENS, filter(nrcWORDS, sentiment == emotion))\n",
    "    fakeTweetsNRCsentiment <- full_join(fakeTweetsNRCsentiment, fakeTweetsNRCsentiment0)\n",
    "    }\n",
    "\n",
    "# remove the initial value from the data.frame()\n",
    "fakeTweetsNRCsentiment <- data.frame(fakeTweetsNRCsentiment[-1,])"
   ]
  },
  {
   "cell_type": "markdown",
   "metadata": {},
   "source": [
    "> and then for real tweets"
   ]
  },
  {
   "cell_type": "code",
   "execution_count": 18,
   "metadata": {},
   "outputs": [
    {
     "name": "stderr",
     "output_type": "stream",
     "text": [
      "Joining, by = \"word\"\n",
      "Joining, by = \"id\"\n",
      "Warning message:\n",
      "“Column `id` joining factors with different levels, coercing to character vector”Joining, by = \"word\"\n",
      "Joining, by = c(\"id\", \"word\", \"sentiment\")\n",
      "Warning message:\n",
      "“Column `id` joining character vector and factor, coercing into character vector”Joining, by = \"word\"\n",
      "Joining, by = c(\"id\", \"word\", \"sentiment\")\n",
      "Warning message:\n",
      "“Column `id` joining character vector and factor, coercing into character vector”Joining, by = \"word\"\n",
      "Joining, by = c(\"id\", \"word\", \"sentiment\")\n",
      "Warning message:\n",
      "“Column `id` joining character vector and factor, coercing into character vector”Joining, by = \"word\"\n",
      "Joining, by = c(\"id\", \"word\", \"sentiment\")\n",
      "Warning message:\n",
      "“Column `id` joining character vector and factor, coercing into character vector”Joining, by = \"word\"\n",
      "Joining, by = c(\"id\", \"word\", \"sentiment\")\n",
      "Warning message:\n",
      "“Column `id` joining character vector and factor, coercing into character vector”Joining, by = \"word\"\n",
      "Joining, by = c(\"id\", \"word\", \"sentiment\")\n",
      "Warning message:\n",
      "“Column `id` joining character vector and factor, coercing into character vector”Joining, by = \"word\"\n",
      "Joining, by = c(\"id\", \"word\", \"sentiment\")\n",
      "Warning message:\n",
      "“Column `id` joining character vector and factor, coercing into character vector”Joining, by = \"word\"\n",
      "Joining, by = c(\"id\", \"word\", \"sentiment\")\n",
      "Warning message:\n",
      "“Column `id` joining character vector and factor, coercing into character vector”Joining, by = \"word\"\n",
      "Joining, by = c(\"id\", \"word\", \"sentiment\")\n",
      "Warning message:\n",
      "“Column `id` joining character vector and factor, coercing into character vector”"
     ]
    }
   ],
   "source": [
    "# initial data.frame() to hold the processed data\n",
    "#   with an initial value for ID to make full_join()s possible\n",
    "realTweetsNRCsentiment <- data.frame(id = as.factor(0))\n",
    "\n",
    "# loop though the emotions\n",
    "for (emotion in nrcEMOTIONS){\n",
    "    realTweetsNRCsentiment0 <- inner_join(realTweetsTOKENS, filter(nrcWORDS, sentiment == emotion))\n",
    "    realTweetsNRCsentiment <- full_join(realTweetsNRCsentiment, realTweetsNRCsentiment0)\n",
    "    }\n",
    "\n",
    "# remove the initial value from the data.frame()\n",
    "realTweetsNRCsentiment <- data.frame(realTweetsNRCsentiment[-1,])"
   ]
  },
  {
   "cell_type": "markdown",
   "metadata": {},
   "source": [
    "> The number of word, sentiment groups now in our data sets"
   ]
  },
  {
   "cell_type": "code",
   "execution_count": 19,
   "metadata": {},
   "outputs": [
    {
     "data": {
      "text/html": [
       "6190343"
      ],
      "text/latex": [
       "6190343"
      ],
      "text/markdown": [
       "6190343"
      ],
      "text/plain": [
       "[1] 6190343"
      ]
     },
     "metadata": {},
     "output_type": "display_data"
    },
    {
     "data": {
      "text/html": [
       "6216860"
      ],
      "text/latex": [
       "6216860"
      ],
      "text/markdown": [
       "6216860"
      ],
      "text/plain": [
       "[1] 6216860"
      ]
     },
     "metadata": {},
     "output_type": "display_data"
    }
   ],
   "source": [
    "nrow(fakeTweetsNRCsentiment)\n",
    "nrow(realTweetsNRCsentiment)"
   ]
  },
  {
   "cell_type": "markdown",
   "metadata": {},
   "source": [
    "### Generate *Tweet-Emotion Matrices*\n",
    "\n",
    "We now need to generate what we are calling *Tweet-Emotion Matrices*.  In these matrices, the rows represent the tweets we have analyzed, while the columns represent the ten emotions in the **NRC Model**.  Thus, the elements of the matrix represent the strength of the emotion represented by the element's column for the tweet represented by the element's row.\n",
    "\n",
    "> First, we do this for the fake tweets:"
   ]
  },
  {
   "cell_type": "code",
   "execution_count": 20,
   "metadata": {
    "collapsed": true
   },
   "outputs": [],
   "source": [
    "attach(fakeTweetsNRCsentiment)\n",
    "fakeNRCscoredTweets <- data.frame(table(id, sentiment), realFAKEcat = \"sBOT\")\n",
    "detach(fakeTweetsNRCsentiment)"
   ]
  },
  {
   "cell_type": "markdown",
   "metadata": {},
   "source": [
    "> Then we do it for the real tweets"
   ]
  },
  {
   "cell_type": "code",
   "execution_count": 21,
   "metadata": {
    "collapsed": true
   },
   "outputs": [],
   "source": [
    "attach(realTweetsNRCsentiment)\n",
    "realNRCscoredTweets <- data.frame(table(id, sentiment), realFAKEcat = \"real\")\n",
    "detach(realTweetsNRCsentiment)"
   ]
  },
  {
   "cell_type": "markdown",
   "metadata": {},
   "source": [
    "> We now create a combined data frame containing **_ALL_** tweets, both real and fake"
   ]
  },
  {
   "cell_type": "code",
   "execution_count": 22,
   "metadata": {
    "collapsed": true
   },
   "outputs": [],
   "source": [
    "NRCscoredTweets <- rbind(fakeNRCscoredTweets, realNRCscoredTweets)"
   ]
  },
  {
   "cell_type": "markdown",
   "metadata": {},
   "source": [
    "> Using this data frame, we create \"data *sub*-frames\" to store the frequency data for each emotion covered by the **NRC Model**:"
   ]
  },
  {
   "cell_type": "code",
   "execution_count": 23,
   "metadata": {
    "collapsed": true
   },
   "outputs": [],
   "source": [
    "# trust\n",
    "trustScores <- data.frame(id = filter(NRCscoredTweets, sentiment == \"trust\")$id, trust = filter(NRCscoredTweets, sentiment == \"trust\")$Freq)\n",
    "\n",
    "# fear\n",
    "fearScores <- data.frame(id = filter(NRCscoredTweets, sentiment == \"fear\")$id, fear = filter(NRCscoredTweets, sentiment == \"fear\")$Freq)\n",
    "\n",
    "# negative\n",
    "negScores <- data.frame(id = filter(NRCscoredTweets, sentiment == \"negative\")$id, negative = filter(NRCscoredTweets, sentiment == \"negative\")$Freq)\n",
    "\n",
    "# sadness\n",
    "sadnessScores <- data.frame(id = filter(NRCscoredTweets, sentiment == \"sadness\")$id, sadness = filter(NRCscoredTweets, sentiment == \"sadness\")$Freq)\n",
    "\n",
    "# anger\n",
    "angerScores <- data.frame(id = filter(NRCscoredTweets, sentiment == \"anger\")$id, anger = filter(NRCscoredTweets, sentiment == \"anger\")$Freq)\n",
    "\n",
    "# surprise\n",
    "surpriseScores <- data.frame(id = filter(NRCscoredTweets, sentiment == \"surprise\")$id, surprise = filter(NRCscoredTweets, sentiment == \"surprise\")$Freq)\n",
    "\n",
    "# positive\n",
    "posScores <- data.frame(id = filter(NRCscoredTweets, sentiment == \"positive\")$id, positive = filter(NRCscoredTweets, sentiment == \"positive\")$Freq)\n",
    "\n",
    "# disgust\n",
    "disgustScores <- data.frame(id = filter(NRCscoredTweets, sentiment == \"disgust\")$id, disgust = filter(NRCscoredTweets, sentiment == \"disgust\")$Freq)\n",
    "\n",
    "# joy\n",
    "joyScores <- data.frame(id = filter(NRCscoredTweets, sentiment == \"joy\")$id, joy = filter(NRCscoredTweets, sentiment == \"joy\")$Freq)\n",
    "\n",
    "# anticipation\n",
    "anticipationScores <- data.frame(id = filter(NRCscoredTweets, sentiment == \"anticipation\")$id, anticipation = filter(NRCscoredTweets, sentiment == \"anticipation\")$Freq, realFAKEcat = filter(NRCscoredTweets, sentiment == \"anticipation\")$realFAKEcat)"
   ]
  },
  {
   "cell_type": "markdown",
   "metadata": {},
   "source": [
    "> These \"data *sub*-frames\" are now combined by the tweet id represented by each row to give the final **_Tweet-Emotion Matrix_**."
   ]
  },
  {
   "cell_type": "code",
   "execution_count": 24,
   "metadata": {},
   "outputs": [
    {
     "name": "stderr",
     "output_type": "stream",
     "text": [
      "Joining, by = \"id\"\n",
      "Joining, by = \"id\"\n",
      "Joining, by = \"id\"\n",
      "Joining, by = \"id\"\n",
      "Joining, by = \"id\"\n",
      "Joining, by = \"id\"\n",
      "Joining, by = \"id\"\n",
      "Joining, by = \"id\"\n",
      "Joining, by = \"id\"\n"
     ]
    }
   ],
   "source": [
    "nrcSCORES <- full_join(trustScores, full_join(fearScores, full_join(negScores, full_join(sadnessScores, full_join(angerScores, full_join(surpriseScores, full_join(posScores, full_join(disgustScores, full_join(joyScores, anticipationScores)))))))))"
   ]
  },
  {
   "cell_type": "markdown",
   "metadata": {},
   "source": [
    "> #### Look at the table\n",
    "\n",
    "> We now get a quick look at the layout of our table to ensure its what we want"
   ]
  },
  {
   "cell_type": "code",
   "execution_count": 25,
   "metadata": {},
   "outputs": [
    {
     "data": {
      "text/html": [
       "<table>\n",
       "<thead><tr><th scope=col>id</th><th scope=col>trust</th><th scope=col>fear</th><th scope=col>negative</th><th scope=col>sadness</th><th scope=col>anger</th><th scope=col>surprise</th><th scope=col>positive</th><th scope=col>disgust</th><th scope=col>joy</th><th scope=col>anticipation</th><th scope=col>realFAKEcat</th></tr></thead>\n",
       "<tbody>\n",
       "\t<tr><td>1576793126</td><td>2         </td><td>0         </td><td>0         </td><td>0         </td><td>0         </td><td>1         </td><td>3         </td><td>0         </td><td>2         </td><td>0         </td><td>sBOT      </td></tr>\n",
       "\t<tr><td>1606658390</td><td>0         </td><td>0         </td><td>0         </td><td>0         </td><td>0         </td><td>0         </td><td>1         </td><td>0         </td><td>1         </td><td>2         </td><td>sBOT      </td></tr>\n",
       "\t<tr><td>1726455250</td><td>1         </td><td>0         </td><td>0         </td><td>0         </td><td>0         </td><td>1         </td><td>1         </td><td>0         </td><td>1         </td><td>0         </td><td>sBOT      </td></tr>\n",
       "\t<tr><td>1810776896</td><td>0         </td><td>0         </td><td>1         </td><td>0         </td><td>0         </td><td>0         </td><td>1         </td><td>0         </td><td>0         </td><td>0         </td><td>sBOT      </td></tr>\n",
       "\t<tr><td>4298472538</td><td>1         </td><td>0         </td><td>1         </td><td>1         </td><td>0         </td><td>0         </td><td>4         </td><td>0         </td><td>3         </td><td>2         </td><td>sBOT      </td></tr>\n",
       "\t<tr><td>4345048188</td><td>0         </td><td>0         </td><td>0         </td><td>0         </td><td>0         </td><td>0         </td><td>1         </td><td>0         </td><td>0         </td><td>0         </td><td>sBOT      </td></tr>\n",
       "\t<tr><td>4379157377</td><td>1         </td><td>0         </td><td>0         </td><td>0         </td><td>0         </td><td>0         </td><td>1         </td><td>0         </td><td>0         </td><td>0         </td><td>sBOT      </td></tr>\n",
       "\t<tr><td>4396087059</td><td>0         </td><td>0         </td><td>0         </td><td>0         </td><td>0         </td><td>0         </td><td>1         </td><td>0         </td><td>0         </td><td>0         </td><td>sBOT      </td></tr>\n",
       "\t<tr><td>4471851171</td><td>1         </td><td>0         </td><td>0         </td><td>0         </td><td>0         </td><td>0         </td><td>2         </td><td>0         </td><td>1         </td><td>1         </td><td>sBOT      </td></tr>\n",
       "\t<tr><td>4498913557</td><td>0         </td><td>0         </td><td>0         </td><td>0         </td><td>0         </td><td>0         </td><td>1         </td><td>0         </td><td>0         </td><td>0         </td><td>sBOT      </td></tr>\n",
       "\t<tr><td>4530415376</td><td>0         </td><td>0         </td><td>0         </td><td>1         </td><td>0         </td><td>0         </td><td>2         </td><td>0         </td><td>1         </td><td>2         </td><td>sBOT      </td></tr>\n",
       "\t<tr><td>4631003890</td><td>0         </td><td>0         </td><td>0         </td><td>0         </td><td>0         </td><td>0         </td><td>1         </td><td>0         </td><td>1         </td><td>0         </td><td>sBOT      </td></tr>\n",
       "\t<tr><td>4716103010</td><td>0         </td><td>0         </td><td>0         </td><td>0         </td><td>0         </td><td>0         </td><td>1         </td><td>0         </td><td>0         </td><td>0         </td><td>sBOT      </td></tr>\n",
       "\t<tr><td>4791269540</td><td>0         </td><td>1         </td><td>1         </td><td>0         </td><td>1         </td><td>0         </td><td>0         </td><td>0         </td><td>0         </td><td>0         </td><td>sBOT      </td></tr>\n",
       "\t<tr><td>4792804609</td><td>2         </td><td>0         </td><td>0         </td><td>0         </td><td>0         </td><td>0         </td><td>2         </td><td>0         </td><td>0         </td><td>0         </td><td>sBOT      </td></tr>\n",
       "\t<tr><td>4818952266</td><td>2         </td><td>0         </td><td>0         </td><td>0         </td><td>0         </td><td>0         </td><td>1         </td><td>0         </td><td>1         </td><td>1         </td><td>sBOT      </td></tr>\n",
       "\t<tr><td>4836863661</td><td>0         </td><td>0         </td><td>1         </td><td>0         </td><td>0         </td><td>0         </td><td>0         </td><td>1         </td><td>0         </td><td>0         </td><td>sBOT      </td></tr>\n",
       "\t<tr><td>4846264115</td><td>0         </td><td>0         </td><td>0         </td><td>0         </td><td>0         </td><td>0         </td><td>1         </td><td>0         </td><td>1         </td><td>1         </td><td>sBOT      </td></tr>\n",
       "\t<tr><td>4860475925</td><td>1         </td><td>0         </td><td>0         </td><td>0         </td><td>0         </td><td>0         </td><td>1         </td><td>0         </td><td>0         </td><td>0         </td><td>sBOT      </td></tr>\n",
       "\t<tr><td>4863594930</td><td>7         </td><td>0         </td><td>1         </td><td>0         </td><td>0         </td><td>4         </td><td>7         </td><td>1         </td><td>2         </td><td>6         </td><td>sBOT      </td></tr>\n",
       "\t<tr><td>4891062657</td><td>1         </td><td>0         </td><td>0         </td><td>0         </td><td>0         </td><td>0         </td><td>1         </td><td>0         </td><td>0         </td><td>0         </td><td>sBOT      </td></tr>\n",
       "\t<tr><td>4891470554</td><td>0         </td><td>0         </td><td>0         </td><td>0         </td><td>0         </td><td>0         </td><td>3         </td><td>0         </td><td>2         </td><td>0         </td><td>sBOT      </td></tr>\n",
       "\t<tr><td>4892806106</td><td>1         </td><td>0         </td><td>0         </td><td>0         </td><td>0         </td><td>0         </td><td>1         </td><td>0         </td><td>0         </td><td>0         </td><td>sBOT      </td></tr>\n",
       "\t<tr><td>4893803017</td><td>1         </td><td>0         </td><td>0         </td><td>0         </td><td>0         </td><td>1         </td><td>1         </td><td>0         </td><td>1         </td><td>1         </td><td>sBOT      </td></tr>\n",
       "\t<tr><td>4895151831</td><td>0         </td><td>0         </td><td>0         </td><td>0         </td><td>0         </td><td>0         </td><td>1         </td><td>0         </td><td>0         </td><td>0         </td><td>sBOT      </td></tr>\n",
       "\t<tr><td>4895238469</td><td>1         </td><td>0         </td><td>0         </td><td>0         </td><td>0         </td><td>1         </td><td>2         </td><td>0         </td><td>1         </td><td>1         </td><td>sBOT      </td></tr>\n",
       "\t<tr><td>5042610101</td><td>1         </td><td>0         </td><td>0         </td><td>0         </td><td>0         </td><td>0         </td><td>1         </td><td>0         </td><td>1         </td><td>1         </td><td>sBOT      </td></tr>\n",
       "\t<tr><td>5047094179</td><td>0         </td><td>0         </td><td>1         </td><td>1         </td><td>0         </td><td>0         </td><td>2         </td><td>0         </td><td>1         </td><td>1         </td><td>sBOT      </td></tr>\n",
       "\t<tr><td>5070933897</td><td>1         </td><td>0         </td><td>0         </td><td>0         </td><td>1         </td><td>1         </td><td>2         </td><td>0         </td><td>1         </td><td>1         </td><td>sBOT      </td></tr>\n",
       "\t<tr><td>5096190842</td><td>2         </td><td>0         </td><td>0         </td><td>0         </td><td>1         </td><td>1         </td><td>2         </td><td>0         </td><td>2         </td><td>2         </td><td>sBOT      </td></tr>\n",
       "\t<tr><td>⋮</td><td>⋮</td><td>⋮</td><td>⋮</td><td>⋮</td><td>⋮</td><td>⋮</td><td>⋮</td><td>⋮</td><td>⋮</td><td>⋮</td><td>⋮</td></tr>\n",
       "\t<tr><td>99892075553763329</td><td>1                </td><td>0                </td><td>0                </td><td>0                </td><td>0                </td><td>0                </td><td>0                </td><td>0                </td><td>0                </td><td>1                </td><td>real             </td></tr>\n",
       "\t<tr><td>99892864728834048</td><td>0                </td><td>0                </td><td>0                </td><td>0                </td><td>0                </td><td>0                </td><td>1                </td><td>0                </td><td>1                </td><td>0                </td><td>real             </td></tr>\n",
       "\t<tr><td>99893394159050752</td><td>0                </td><td>0                </td><td>0                </td><td>0                </td><td>0                </td><td>0                </td><td>0                </td><td>1                </td><td>0                </td><td>0                </td><td>real             </td></tr>\n",
       "\t<tr><td>99895706571116544</td><td>1                </td><td>0                </td><td>0                </td><td>0                </td><td>0                </td><td>1                </td><td>1                </td><td>0                </td><td>1                </td><td>1                </td><td>real             </td></tr>\n",
       "\t<tr><td>99896158566096896</td><td>0                </td><td>0                </td><td>0                </td><td>0                </td><td>0                </td><td>0                </td><td>1                </td><td>0                </td><td>0                </td><td>0                </td><td>real             </td></tr>\n",
       "\t<tr><td>99898235065339904</td><td>0                </td><td>1                </td><td>1                </td><td>1                </td><td>1                </td><td>0                </td><td>0                </td><td>1                </td><td>0                </td><td>0                </td><td>real             </td></tr>\n",
       "\t<tr><td>99899088346152961</td><td>1                </td><td>0                </td><td>0                </td><td>0                </td><td>0                </td><td>0                </td><td>1                </td><td>0                </td><td>0                </td><td>1                </td><td>real             </td></tr>\n",
       "\t<tr><td>99902661935104002</td><td>1                </td><td>0                </td><td>1                </td><td>0                </td><td>0                </td><td>0                </td><td>0                </td><td>0                </td><td>0                </td><td>0                </td><td>real             </td></tr>\n",
       "\t<tr><td>999098069        </td><td>0                </td><td>0                </td><td>0                </td><td>0                </td><td>0                </td><td>0                </td><td>0                </td><td>0                </td><td>0                </td><td>1                </td><td>real             </td></tr>\n",
       "\t<tr><td>9991511556       </td><td>0                </td><td>1                </td><td>1                </td><td>0                </td><td>1                </td><td>1                </td><td>0                </td><td>0                </td><td>0                </td><td>0                </td><td>real             </td></tr>\n",
       "\t<tr><td>99916019371474944</td><td>1                </td><td>0                </td><td>0                </td><td>0                </td><td>0                </td><td>0                </td><td>0                </td><td>0                </td><td>0                </td><td>1                </td><td>real             </td></tr>\n",
       "\t<tr><td>9991845064       </td><td>0                </td><td>1                </td><td>1                </td><td>1                </td><td>0                </td><td>0                </td><td>0                </td><td>0                </td><td>0                </td><td>0                </td><td>real             </td></tr>\n",
       "\t<tr><td>99921540782632961</td><td>0                </td><td>0                </td><td>0                </td><td>0                </td><td>0                </td><td>0                </td><td>1                </td><td>0                </td><td>0                </td><td>0                </td><td>real             </td></tr>\n",
       "\t<tr><td>9992920426       </td><td>1                </td><td>0                </td><td>0                </td><td>0                </td><td>0                </td><td>0                </td><td>1                </td><td>0                </td><td>0                </td><td>0                </td><td>real             </td></tr>\n",
       "\t<tr><td>999335623        </td><td>1                </td><td>0                </td><td>0                </td><td>0                </td><td>0                </td><td>0                </td><td>0                </td><td>0                </td><td>0                </td><td>0                </td><td>real             </td></tr>\n",
       "\t<tr><td>9993556940       </td><td>2                </td><td>0                </td><td>0                </td><td>0                </td><td>0                </td><td>0                </td><td>1                </td><td>0                </td><td>1                </td><td>1                </td><td>real             </td></tr>\n",
       "\t<tr><td>999454921        </td><td>1                </td><td>0                </td><td>0                </td><td>0                </td><td>0                </td><td>0                </td><td>1                </td><td>0                </td><td>1                </td><td>0                </td><td>real             </td></tr>\n",
       "\t<tr><td>99945739437879296</td><td>0                </td><td>0                </td><td>0                </td><td>0                </td><td>0                </td><td>1                </td><td>1                </td><td>0                </td><td>0                </td><td>0                </td><td>real             </td></tr>\n",
       "\t<tr><td>999458614        </td><td>0                </td><td>0                </td><td>0                </td><td>0                </td><td>0                </td><td>1                </td><td>2                </td><td>0                </td><td>1                </td><td>1                </td><td>real             </td></tr>\n",
       "\t<tr><td>999475920        </td><td>0                </td><td>0                </td><td>0                </td><td>0                </td><td>0                </td><td>0                </td><td>0                </td><td>0                </td><td>0                </td><td>1                </td><td>real             </td></tr>\n",
       "\t<tr><td>99948350484381697</td><td>0                </td><td>0                </td><td>1                </td><td>0                </td><td>0                </td><td>0                </td><td>1                </td><td>0                </td><td>0                </td><td>1                </td><td>real             </td></tr>\n",
       "\t<tr><td>99949142712918017</td><td>0                </td><td>1                </td><td>2                </td><td>1                </td><td>2                </td><td>0                </td><td>0                </td><td>1                </td><td>0                </td><td>0                </td><td>real             </td></tr>\n",
       "\t<tr><td>99953361541005312</td><td>0                </td><td>0                </td><td>0                </td><td>0                </td><td>0                </td><td>0                </td><td>0                </td><td>0                </td><td>0                </td><td>2                </td><td>real             </td></tr>\n",
       "\t<tr><td>99958248064557057</td><td>1                </td><td>0                </td><td>0                </td><td>0                </td><td>0                </td><td>1                </td><td>1                </td><td>0                </td><td>1                </td><td>2                </td><td>real             </td></tr>\n",
       "\t<tr><td>9996364068       </td><td>0                </td><td>0                </td><td>0                </td><td>0                </td><td>0                </td><td>0                </td><td>1                </td><td>0                </td><td>0                </td><td>0                </td><td>real             </td></tr>\n",
       "\t<tr><td>999682705        </td><td>0                </td><td>0                </td><td>0                </td><td>0                </td><td>0                </td><td>0                </td><td>1                </td><td>0                </td><td>0                </td><td>0                </td><td>real             </td></tr>\n",
       "\t<tr><td>99973790699753473</td><td>0                </td><td>0                </td><td>0                </td><td>0                </td><td>0                </td><td>0                </td><td>1                </td><td>0                </td><td>0                </td><td>0                </td><td>real             </td></tr>\n",
       "\t<tr><td>9998069706       </td><td>0                </td><td>0                </td><td>1                </td><td>0                </td><td>1                </td><td>0                </td><td>0                </td><td>0                </td><td>0                </td><td>0                </td><td>real             </td></tr>\n",
       "\t<tr><td>9998131050       </td><td>1                </td><td>0                </td><td>0                </td><td>0                </td><td>0                </td><td>0                </td><td>1                </td><td>0                </td><td>0                </td><td>0                </td><td>real             </td></tr>\n",
       "\t<tr><td>99986578054717440</td><td>0                </td><td>1                </td><td>1                </td><td>1                </td><td>1                </td><td>0                </td><td>0                </td><td>1                </td><td>0                </td><td>0                </td><td>real             </td></tr>\n",
       "</tbody>\n",
       "</table>\n"
      ],
      "text/latex": [
       "\\begin{tabular}{r|llllllllllll}\n",
       " id & trust & fear & negative & sadness & anger & surprise & positive & disgust & joy & anticipation & realFAKEcat\\\\\n",
       "\\hline\n",
       "\t 1576793126 & 2          & 0          & 0          & 0          & 0          & 1          & 3          & 0          & 2          & 0          & sBOT      \\\\\n",
       "\t 1606658390 & 0          & 0          & 0          & 0          & 0          & 0          & 1          & 0          & 1          & 2          & sBOT      \\\\\n",
       "\t 1726455250 & 1          & 0          & 0          & 0          & 0          & 1          & 1          & 0          & 1          & 0          & sBOT      \\\\\n",
       "\t 1810776896 & 0          & 0          & 1          & 0          & 0          & 0          & 1          & 0          & 0          & 0          & sBOT      \\\\\n",
       "\t 4298472538 & 1          & 0          & 1          & 1          & 0          & 0          & 4          & 0          & 3          & 2          & sBOT      \\\\\n",
       "\t 4345048188 & 0          & 0          & 0          & 0          & 0          & 0          & 1          & 0          & 0          & 0          & sBOT      \\\\\n",
       "\t 4379157377 & 1          & 0          & 0          & 0          & 0          & 0          & 1          & 0          & 0          & 0          & sBOT      \\\\\n",
       "\t 4396087059 & 0          & 0          & 0          & 0          & 0          & 0          & 1          & 0          & 0          & 0          & sBOT      \\\\\n",
       "\t 4471851171 & 1          & 0          & 0          & 0          & 0          & 0          & 2          & 0          & 1          & 1          & sBOT      \\\\\n",
       "\t 4498913557 & 0          & 0          & 0          & 0          & 0          & 0          & 1          & 0          & 0          & 0          & sBOT      \\\\\n",
       "\t 4530415376 & 0          & 0          & 0          & 1          & 0          & 0          & 2          & 0          & 1          & 2          & sBOT      \\\\\n",
       "\t 4631003890 & 0          & 0          & 0          & 0          & 0          & 0          & 1          & 0          & 1          & 0          & sBOT      \\\\\n",
       "\t 4716103010 & 0          & 0          & 0          & 0          & 0          & 0          & 1          & 0          & 0          & 0          & sBOT      \\\\\n",
       "\t 4791269540 & 0          & 1          & 1          & 0          & 1          & 0          & 0          & 0          & 0          & 0          & sBOT      \\\\\n",
       "\t 4792804609 & 2          & 0          & 0          & 0          & 0          & 0          & 2          & 0          & 0          & 0          & sBOT      \\\\\n",
       "\t 4818952266 & 2          & 0          & 0          & 0          & 0          & 0          & 1          & 0          & 1          & 1          & sBOT      \\\\\n",
       "\t 4836863661 & 0          & 0          & 1          & 0          & 0          & 0          & 0          & 1          & 0          & 0          & sBOT      \\\\\n",
       "\t 4846264115 & 0          & 0          & 0          & 0          & 0          & 0          & 1          & 0          & 1          & 1          & sBOT      \\\\\n",
       "\t 4860475925 & 1          & 0          & 0          & 0          & 0          & 0          & 1          & 0          & 0          & 0          & sBOT      \\\\\n",
       "\t 4863594930 & 7          & 0          & 1          & 0          & 0          & 4          & 7          & 1          & 2          & 6          & sBOT      \\\\\n",
       "\t 4891062657 & 1          & 0          & 0          & 0          & 0          & 0          & 1          & 0          & 0          & 0          & sBOT      \\\\\n",
       "\t 4891470554 & 0          & 0          & 0          & 0          & 0          & 0          & 3          & 0          & 2          & 0          & sBOT      \\\\\n",
       "\t 4892806106 & 1          & 0          & 0          & 0          & 0          & 0          & 1          & 0          & 0          & 0          & sBOT      \\\\\n",
       "\t 4893803017 & 1          & 0          & 0          & 0          & 0          & 1          & 1          & 0          & 1          & 1          & sBOT      \\\\\n",
       "\t 4895151831 & 0          & 0          & 0          & 0          & 0          & 0          & 1          & 0          & 0          & 0          & sBOT      \\\\\n",
       "\t 4895238469 & 1          & 0          & 0          & 0          & 0          & 1          & 2          & 0          & 1          & 1          & sBOT      \\\\\n",
       "\t 5042610101 & 1          & 0          & 0          & 0          & 0          & 0          & 1          & 0          & 1          & 1          & sBOT      \\\\\n",
       "\t 5047094179 & 0          & 0          & 1          & 1          & 0          & 0          & 2          & 0          & 1          & 1          & sBOT      \\\\\n",
       "\t 5070933897 & 1          & 0          & 0          & 0          & 1          & 1          & 2          & 0          & 1          & 1          & sBOT      \\\\\n",
       "\t 5096190842 & 2          & 0          & 0          & 0          & 1          & 1          & 2          & 0          & 2          & 2          & sBOT      \\\\\n",
       "\t ⋮ & ⋮ & ⋮ & ⋮ & ⋮ & ⋮ & ⋮ & ⋮ & ⋮ & ⋮ & ⋮ & ⋮\\\\\n",
       "\t 99892075553763329 & 1                 & 0                 & 0                 & 0                 & 0                 & 0                 & 0                 & 0                 & 0                 & 1                 & real             \\\\\n",
       "\t 99892864728834048 & 0                 & 0                 & 0                 & 0                 & 0                 & 0                 & 1                 & 0                 & 1                 & 0                 & real             \\\\\n",
       "\t 99893394159050752 & 0                 & 0                 & 0                 & 0                 & 0                 & 0                 & 0                 & 1                 & 0                 & 0                 & real             \\\\\n",
       "\t 99895706571116544 & 1                 & 0                 & 0                 & 0                 & 0                 & 1                 & 1                 & 0                 & 1                 & 1                 & real             \\\\\n",
       "\t 99896158566096896 & 0                 & 0                 & 0                 & 0                 & 0                 & 0                 & 1                 & 0                 & 0                 & 0                 & real             \\\\\n",
       "\t 99898235065339904 & 0                 & 1                 & 1                 & 1                 & 1                 & 0                 & 0                 & 1                 & 0                 & 0                 & real             \\\\\n",
       "\t 99899088346152961 & 1                 & 0                 & 0                 & 0                 & 0                 & 0                 & 1                 & 0                 & 0                 & 1                 & real             \\\\\n",
       "\t 99902661935104002 & 1                 & 0                 & 1                 & 0                 & 0                 & 0                 & 0                 & 0                 & 0                 & 0                 & real             \\\\\n",
       "\t 999098069         & 0                 & 0                 & 0                 & 0                 & 0                 & 0                 & 0                 & 0                 & 0                 & 1                 & real             \\\\\n",
       "\t 9991511556        & 0                 & 1                 & 1                 & 0                 & 1                 & 1                 & 0                 & 0                 & 0                 & 0                 & real             \\\\\n",
       "\t 99916019371474944 & 1                 & 0                 & 0                 & 0                 & 0                 & 0                 & 0                 & 0                 & 0                 & 1                 & real             \\\\\n",
       "\t 9991845064        & 0                 & 1                 & 1                 & 1                 & 0                 & 0                 & 0                 & 0                 & 0                 & 0                 & real             \\\\\n",
       "\t 99921540782632961 & 0                 & 0                 & 0                 & 0                 & 0                 & 0                 & 1                 & 0                 & 0                 & 0                 & real             \\\\\n",
       "\t 9992920426        & 1                 & 0                 & 0                 & 0                 & 0                 & 0                 & 1                 & 0                 & 0                 & 0                 & real             \\\\\n",
       "\t 999335623         & 1                 & 0                 & 0                 & 0                 & 0                 & 0                 & 0                 & 0                 & 0                 & 0                 & real             \\\\\n",
       "\t 9993556940        & 2                 & 0                 & 0                 & 0                 & 0                 & 0                 & 1                 & 0                 & 1                 & 1                 & real             \\\\\n",
       "\t 999454921         & 1                 & 0                 & 0                 & 0                 & 0                 & 0                 & 1                 & 0                 & 1                 & 0                 & real             \\\\\n",
       "\t 99945739437879296 & 0                 & 0                 & 0                 & 0                 & 0                 & 1                 & 1                 & 0                 & 0                 & 0                 & real             \\\\\n",
       "\t 999458614         & 0                 & 0                 & 0                 & 0                 & 0                 & 1                 & 2                 & 0                 & 1                 & 1                 & real             \\\\\n",
       "\t 999475920         & 0                 & 0                 & 0                 & 0                 & 0                 & 0                 & 0                 & 0                 & 0                 & 1                 & real             \\\\\n",
       "\t 99948350484381697 & 0                 & 0                 & 1                 & 0                 & 0                 & 0                 & 1                 & 0                 & 0                 & 1                 & real             \\\\\n",
       "\t 99949142712918017 & 0                 & 1                 & 2                 & 1                 & 2                 & 0                 & 0                 & 1                 & 0                 & 0                 & real             \\\\\n",
       "\t 99953361541005312 & 0                 & 0                 & 0                 & 0                 & 0                 & 0                 & 0                 & 0                 & 0                 & 2                 & real             \\\\\n",
       "\t 99958248064557057 & 1                 & 0                 & 0                 & 0                 & 0                 & 1                 & 1                 & 0                 & 1                 & 2                 & real             \\\\\n",
       "\t 9996364068        & 0                 & 0                 & 0                 & 0                 & 0                 & 0                 & 1                 & 0                 & 0                 & 0                 & real             \\\\\n",
       "\t 999682705         & 0                 & 0                 & 0                 & 0                 & 0                 & 0                 & 1                 & 0                 & 0                 & 0                 & real             \\\\\n",
       "\t 99973790699753473 & 0                 & 0                 & 0                 & 0                 & 0                 & 0                 & 1                 & 0                 & 0                 & 0                 & real             \\\\\n",
       "\t 9998069706        & 0                 & 0                 & 1                 & 0                 & 1                 & 0                 & 0                 & 0                 & 0                 & 0                 & real             \\\\\n",
       "\t 9998131050        & 1                 & 0                 & 0                 & 0                 & 0                 & 0                 & 1                 & 0                 & 0                 & 0                 & real             \\\\\n",
       "\t 99986578054717440 & 0                 & 1                 & 1                 & 1                 & 1                 & 0                 & 0                 & 1                 & 0                 & 0                 & real             \\\\\n",
       "\\end{tabular}\n"
      ],
      "text/markdown": [
       "\n",
       "id | trust | fear | negative | sadness | anger | surprise | positive | disgust | joy | anticipation | realFAKEcat | \n",
       "|---|---|---|---|---|---|---|---|---|---|---|---|---|---|---|---|---|---|---|---|---|---|---|---|---|---|---|---|---|---|---|---|---|---|---|---|---|---|---|---|---|---|---|---|---|---|---|---|---|---|---|---|---|---|---|---|---|---|---|---|---|\n",
       "| 1576793126 | 2          | 0          | 0          | 0          | 0          | 1          | 3          | 0          | 2          | 0          | sBOT       | \n",
       "| 1606658390 | 0          | 0          | 0          | 0          | 0          | 0          | 1          | 0          | 1          | 2          | sBOT       | \n",
       "| 1726455250 | 1          | 0          | 0          | 0          | 0          | 1          | 1          | 0          | 1          | 0          | sBOT       | \n",
       "| 1810776896 | 0          | 0          | 1          | 0          | 0          | 0          | 1          | 0          | 0          | 0          | sBOT       | \n",
       "| 4298472538 | 1          | 0          | 1          | 1          | 0          | 0          | 4          | 0          | 3          | 2          | sBOT       | \n",
       "| 4345048188 | 0          | 0          | 0          | 0          | 0          | 0          | 1          | 0          | 0          | 0          | sBOT       | \n",
       "| 4379157377 | 1          | 0          | 0          | 0          | 0          | 0          | 1          | 0          | 0          | 0          | sBOT       | \n",
       "| 4396087059 | 0          | 0          | 0          | 0          | 0          | 0          | 1          | 0          | 0          | 0          | sBOT       | \n",
       "| 4471851171 | 1          | 0          | 0          | 0          | 0          | 0          | 2          | 0          | 1          | 1          | sBOT       | \n",
       "| 4498913557 | 0          | 0          | 0          | 0          | 0          | 0          | 1          | 0          | 0          | 0          | sBOT       | \n",
       "| 4530415376 | 0          | 0          | 0          | 1          | 0          | 0          | 2          | 0          | 1          | 2          | sBOT       | \n",
       "| 4631003890 | 0          | 0          | 0          | 0          | 0          | 0          | 1          | 0          | 1          | 0          | sBOT       | \n",
       "| 4716103010 | 0          | 0          | 0          | 0          | 0          | 0          | 1          | 0          | 0          | 0          | sBOT       | \n",
       "| 4791269540 | 0          | 1          | 1          | 0          | 1          | 0          | 0          | 0          | 0          | 0          | sBOT       | \n",
       "| 4792804609 | 2          | 0          | 0          | 0          | 0          | 0          | 2          | 0          | 0          | 0          | sBOT       | \n",
       "| 4818952266 | 2          | 0          | 0          | 0          | 0          | 0          | 1          | 0          | 1          | 1          | sBOT       | \n",
       "| 4836863661 | 0          | 0          | 1          | 0          | 0          | 0          | 0          | 1          | 0          | 0          | sBOT       | \n",
       "| 4846264115 | 0          | 0          | 0          | 0          | 0          | 0          | 1          | 0          | 1          | 1          | sBOT       | \n",
       "| 4860475925 | 1          | 0          | 0          | 0          | 0          | 0          | 1          | 0          | 0          | 0          | sBOT       | \n",
       "| 4863594930 | 7          | 0          | 1          | 0          | 0          | 4          | 7          | 1          | 2          | 6          | sBOT       | \n",
       "| 4891062657 | 1          | 0          | 0          | 0          | 0          | 0          | 1          | 0          | 0          | 0          | sBOT       | \n",
       "| 4891470554 | 0          | 0          | 0          | 0          | 0          | 0          | 3          | 0          | 2          | 0          | sBOT       | \n",
       "| 4892806106 | 1          | 0          | 0          | 0          | 0          | 0          | 1          | 0          | 0          | 0          | sBOT       | \n",
       "| 4893803017 | 1          | 0          | 0          | 0          | 0          | 1          | 1          | 0          | 1          | 1          | sBOT       | \n",
       "| 4895151831 | 0          | 0          | 0          | 0          | 0          | 0          | 1          | 0          | 0          | 0          | sBOT       | \n",
       "| 4895238469 | 1          | 0          | 0          | 0          | 0          | 1          | 2          | 0          | 1          | 1          | sBOT       | \n",
       "| 5042610101 | 1          | 0          | 0          | 0          | 0          | 0          | 1          | 0          | 1          | 1          | sBOT       | \n",
       "| 5047094179 | 0          | 0          | 1          | 1          | 0          | 0          | 2          | 0          | 1          | 1          | sBOT       | \n",
       "| 5070933897 | 1          | 0          | 0          | 0          | 1          | 1          | 2          | 0          | 1          | 1          | sBOT       | \n",
       "| 5096190842 | 2          | 0          | 0          | 0          | 1          | 1          | 2          | 0          | 2          | 2          | sBOT       | \n",
       "| ⋮ | ⋮ | ⋮ | ⋮ | ⋮ | ⋮ | ⋮ | ⋮ | ⋮ | ⋮ | ⋮ | ⋮ | \n",
       "| 99892075553763329 | 1                 | 0                 | 0                 | 0                 | 0                 | 0                 | 0                 | 0                 | 0                 | 1                 | real              | \n",
       "| 99892864728834048 | 0                 | 0                 | 0                 | 0                 | 0                 | 0                 | 1                 | 0                 | 1                 | 0                 | real              | \n",
       "| 99893394159050752 | 0                 | 0                 | 0                 | 0                 | 0                 | 0                 | 0                 | 1                 | 0                 | 0                 | real              | \n",
       "| 99895706571116544 | 1                 | 0                 | 0                 | 0                 | 0                 | 1                 | 1                 | 0                 | 1                 | 1                 | real              | \n",
       "| 99896158566096896 | 0                 | 0                 | 0                 | 0                 | 0                 | 0                 | 1                 | 0                 | 0                 | 0                 | real              | \n",
       "| 99898235065339904 | 0                 | 1                 | 1                 | 1                 | 1                 | 0                 | 0                 | 1                 | 0                 | 0                 | real              | \n",
       "| 99899088346152961 | 1                 | 0                 | 0                 | 0                 | 0                 | 0                 | 1                 | 0                 | 0                 | 1                 | real              | \n",
       "| 99902661935104002 | 1                 | 0                 | 1                 | 0                 | 0                 | 0                 | 0                 | 0                 | 0                 | 0                 | real              | \n",
       "| 999098069         | 0                 | 0                 | 0                 | 0                 | 0                 | 0                 | 0                 | 0                 | 0                 | 1                 | real              | \n",
       "| 9991511556        | 0                 | 1                 | 1                 | 0                 | 1                 | 1                 | 0                 | 0                 | 0                 | 0                 | real              | \n",
       "| 99916019371474944 | 1                 | 0                 | 0                 | 0                 | 0                 | 0                 | 0                 | 0                 | 0                 | 1                 | real              | \n",
       "| 9991845064        | 0                 | 1                 | 1                 | 1                 | 0                 | 0                 | 0                 | 0                 | 0                 | 0                 | real              | \n",
       "| 99921540782632961 | 0                 | 0                 | 0                 | 0                 | 0                 | 0                 | 1                 | 0                 | 0                 | 0                 | real              | \n",
       "| 9992920426        | 1                 | 0                 | 0                 | 0                 | 0                 | 0                 | 1                 | 0                 | 0                 | 0                 | real              | \n",
       "| 999335623         | 1                 | 0                 | 0                 | 0                 | 0                 | 0                 | 0                 | 0                 | 0                 | 0                 | real              | \n",
       "| 9993556940        | 2                 | 0                 | 0                 | 0                 | 0                 | 0                 | 1                 | 0                 | 1                 | 1                 | real              | \n",
       "| 999454921         | 1                 | 0                 | 0                 | 0                 | 0                 | 0                 | 1                 | 0                 | 1                 | 0                 | real              | \n",
       "| 99945739437879296 | 0                 | 0                 | 0                 | 0                 | 0                 | 1                 | 1                 | 0                 | 0                 | 0                 | real              | \n",
       "| 999458614         | 0                 | 0                 | 0                 | 0                 | 0                 | 1                 | 2                 | 0                 | 1                 | 1                 | real              | \n",
       "| 999475920         | 0                 | 0                 | 0                 | 0                 | 0                 | 0                 | 0                 | 0                 | 0                 | 1                 | real              | \n",
       "| 99948350484381697 | 0                 | 0                 | 1                 | 0                 | 0                 | 0                 | 1                 | 0                 | 0                 | 1                 | real              | \n",
       "| 99949142712918017 | 0                 | 1                 | 2                 | 1                 | 2                 | 0                 | 0                 | 1                 | 0                 | 0                 | real              | \n",
       "| 99953361541005312 | 0                 | 0                 | 0                 | 0                 | 0                 | 0                 | 0                 | 0                 | 0                 | 2                 | real              | \n",
       "| 99958248064557057 | 1                 | 0                 | 0                 | 0                 | 0                 | 1                 | 1                 | 0                 | 1                 | 2                 | real              | \n",
       "| 9996364068        | 0                 | 0                 | 0                 | 0                 | 0                 | 0                 | 1                 | 0                 | 0                 | 0                 | real              | \n",
       "| 999682705         | 0                 | 0                 | 0                 | 0                 | 0                 | 0                 | 1                 | 0                 | 0                 | 0                 | real              | \n",
       "| 99973790699753473 | 0                 | 0                 | 0                 | 0                 | 0                 | 0                 | 1                 | 0                 | 0                 | 0                 | real              | \n",
       "| 9998069706        | 0                 | 0                 | 1                 | 0                 | 1                 | 0                 | 0                 | 0                 | 0                 | 0                 | real              | \n",
       "| 9998131050        | 1                 | 0                 | 0                 | 0                 | 0                 | 0                 | 1                 | 0                 | 0                 | 0                 | real              | \n",
       "| 99986578054717440 | 0                 | 1                 | 1                 | 1                 | 1                 | 0                 | 0                 | 1                 | 0                 | 0                 | real              | \n",
       "\n",
       "\n"
      ],
      "text/plain": [
       "        id                trust fear negative sadness anger surprise positive\n",
       "1       1576793126        2     0    0        0       0     1        3       \n",
       "2       1606658390        0     0    0        0       0     0        1       \n",
       "3       1726455250        1     0    0        0       0     1        1       \n",
       "4       1810776896        0     0    1        0       0     0        1       \n",
       "5       4298472538        1     0    1        1       0     0        4       \n",
       "6       4345048188        0     0    0        0       0     0        1       \n",
       "7       4379157377        1     0    0        0       0     0        1       \n",
       "8       4396087059        0     0    0        0       0     0        1       \n",
       "9       4471851171        1     0    0        0       0     0        2       \n",
       "10      4498913557        0     0    0        0       0     0        1       \n",
       "11      4530415376        0     0    0        1       0     0        2       \n",
       "12      4631003890        0     0    0        0       0     0        1       \n",
       "13      4716103010        0     0    0        0       0     0        1       \n",
       "14      4791269540        0     1    1        0       1     0        0       \n",
       "15      4792804609        2     0    0        0       0     0        2       \n",
       "16      4818952266        2     0    0        0       0     0        1       \n",
       "17      4836863661        0     0    1        0       0     0        0       \n",
       "18      4846264115        0     0    0        0       0     0        1       \n",
       "19      4860475925        1     0    0        0       0     0        1       \n",
       "20      4863594930        7     0    1        0       0     4        7       \n",
       "21      4891062657        1     0    0        0       0     0        1       \n",
       "22      4891470554        0     0    0        0       0     0        3       \n",
       "23      4892806106        1     0    0        0       0     0        1       \n",
       "24      4893803017        1     0    0        0       0     1        1       \n",
       "25      4895151831        0     0    0        0       0     0        1       \n",
       "26      4895238469        1     0    0        0       0     1        2       \n",
       "27      5042610101        1     0    0        0       0     0        1       \n",
       "28      5047094179        0     0    1        1       0     0        2       \n",
       "29      5070933897        1     0    0        0       1     1        2       \n",
       "30      5096190842        2     0    0        0       1     1        2       \n",
       "⋮       ⋮                 ⋮     ⋮    ⋮        ⋮       ⋮     ⋮        ⋮       \n",
       "2990318 99892075553763329 1     0    0        0       0     0        0       \n",
       "2990319 99892864728834048 0     0    0        0       0     0        1       \n",
       "2990320 99893394159050752 0     0    0        0       0     0        0       \n",
       "2990321 99895706571116544 1     0    0        0       0     1        1       \n",
       "2990322 99896158566096896 0     0    0        0       0     0        1       \n",
       "2990323 99898235065339904 0     1    1        1       1     0        0       \n",
       "2990324 99899088346152961 1     0    0        0       0     0        1       \n",
       "2990325 99902661935104002 1     0    1        0       0     0        0       \n",
       "2990326 999098069         0     0    0        0       0     0        0       \n",
       "2990327 9991511556        0     1    1        0       1     1        0       \n",
       "2990328 99916019371474944 1     0    0        0       0     0        0       \n",
       "2990329 9991845064        0     1    1        1       0     0        0       \n",
       "2990330 99921540782632961 0     0    0        0       0     0        1       \n",
       "2990331 9992920426        1     0    0        0       0     0        1       \n",
       "2990332 999335623         1     0    0        0       0     0        0       \n",
       "2990333 9993556940        2     0    0        0       0     0        1       \n",
       "2990334 999454921         1     0    0        0       0     0        1       \n",
       "2990335 99945739437879296 0     0    0        0       0     1        1       \n",
       "2990336 999458614         0     0    0        0       0     1        2       \n",
       "2990337 999475920         0     0    0        0       0     0        0       \n",
       "2990338 99948350484381697 0     0    1        0       0     0        1       \n",
       "2990339 99949142712918017 0     1    2        1       2     0        0       \n",
       "2990340 99953361541005312 0     0    0        0       0     0        0       \n",
       "2990341 99958248064557057 1     0    0        0       0     1        1       \n",
       "2990342 9996364068        0     0    0        0       0     0        1       \n",
       "2990343 999682705         0     0    0        0       0     0        1       \n",
       "2990344 99973790699753473 0     0    0        0       0     0        1       \n",
       "2990345 9998069706        0     0    1        0       1     0        0       \n",
       "2990346 9998131050        1     0    0        0       0     0        1       \n",
       "2990347 99986578054717440 0     1    1        1       1     0        0       \n",
       "        disgust joy anticipation realFAKEcat\n",
       "1       0       2   0            sBOT       \n",
       "2       0       1   2            sBOT       \n",
       "3       0       1   0            sBOT       \n",
       "4       0       0   0            sBOT       \n",
       "5       0       3   2            sBOT       \n",
       "6       0       0   0            sBOT       \n",
       "7       0       0   0            sBOT       \n",
       "8       0       0   0            sBOT       \n",
       "9       0       1   1            sBOT       \n",
       "10      0       0   0            sBOT       \n",
       "11      0       1   2            sBOT       \n",
       "12      0       1   0            sBOT       \n",
       "13      0       0   0            sBOT       \n",
       "14      0       0   0            sBOT       \n",
       "15      0       0   0            sBOT       \n",
       "16      0       1   1            sBOT       \n",
       "17      1       0   0            sBOT       \n",
       "18      0       1   1            sBOT       \n",
       "19      0       0   0            sBOT       \n",
       "20      1       2   6            sBOT       \n",
       "21      0       0   0            sBOT       \n",
       "22      0       2   0            sBOT       \n",
       "23      0       0   0            sBOT       \n",
       "24      0       1   1            sBOT       \n",
       "25      0       0   0            sBOT       \n",
       "26      0       1   1            sBOT       \n",
       "27      0       1   1            sBOT       \n",
       "28      0       1   1            sBOT       \n",
       "29      0       1   1            sBOT       \n",
       "30      0       2   2            sBOT       \n",
       "⋮       ⋮       ⋮   ⋮            ⋮          \n",
       "2990318 0       0   1            real       \n",
       "2990319 0       1   0            real       \n",
       "2990320 1       0   0            real       \n",
       "2990321 0       1   1            real       \n",
       "2990322 0       0   0            real       \n",
       "2990323 1       0   0            real       \n",
       "2990324 0       0   1            real       \n",
       "2990325 0       0   0            real       \n",
       "2990326 0       0   1            real       \n",
       "2990327 0       0   0            real       \n",
       "2990328 0       0   1            real       \n",
       "2990329 0       0   0            real       \n",
       "2990330 0       0   0            real       \n",
       "2990331 0       0   0            real       \n",
       "2990332 0       0   0            real       \n",
       "2990333 0       1   1            real       \n",
       "2990334 0       1   0            real       \n",
       "2990335 0       0   0            real       \n",
       "2990336 0       1   1            real       \n",
       "2990337 0       0   1            real       \n",
       "2990338 0       0   1            real       \n",
       "2990339 1       0   0            real       \n",
       "2990340 0       0   2            real       \n",
       "2990341 0       1   2            real       \n",
       "2990342 0       0   0            real       \n",
       "2990343 0       0   0            real       \n",
       "2990344 0       0   0            real       \n",
       "2990345 0       0   0            real       \n",
       "2990346 0       0   0            real       \n",
       "2990347 1       0   0            real       "
      ]
     },
     "metadata": {},
     "output_type": "display_data"
    }
   ],
   "source": [
    "nrcSCORES"
   ]
  },
  {
   "cell_type": "markdown",
   "metadata": {},
   "source": [
    "### Generate fake and real tables\n",
    "\n",
    "We now create two versions of this **_Tweet-Emotion Matrix_**, one with only fake tweets and the other with only real tweets.\n",
    "\n",
    "> For the fake tweets:"
   ]
  },
  {
   "cell_type": "code",
   "execution_count": 26,
   "metadata": {
    "collapsed": true
   },
   "outputs": [],
   "source": [
    "fakeNRCscores <- filter(nrcSCORES, realFAKEcat == 'sBOT')"
   ]
  },
  {
   "cell_type": "markdown",
   "metadata": {},
   "source": [
    "and then for the real tweets"
   ]
  },
  {
   "cell_type": "code",
   "execution_count": 27,
   "metadata": {
    "collapsed": true
   },
   "outputs": [],
   "source": [
    "realNRCscores <- filter(nrcSCORES, realFAKEcat == 'real')"
   ]
  },
  {
   "cell_type": "markdown",
   "metadata": {},
   "source": [
    "### Export tables\n",
    "\n",
    "We now export the complete processed tables for fake tweets, real tweets, and all tweets.\n",
    "\n",
    "> Starting with the fake tweets:"
   ]
  },
  {
   "cell_type": "code",
   "execution_count": 28,
   "metadata": {
    "collapsed": true
   },
   "outputs": [],
   "source": [
    "write.table(fakeNRCscores, \"fakeNRCscores.csv\", sep=\",\")"
   ]
  },
  {
   "cell_type": "markdown",
   "metadata": {},
   "source": [
    "> and continuing with the real tweets:"
   ]
  },
  {
   "cell_type": "code",
   "execution_count": 29,
   "metadata": {
    "collapsed": true
   },
   "outputs": [],
   "source": [
    "write.table(realNRCscores, \"realNRCscores.csv\", sep=\",\")"
   ]
  },
  {
   "cell_type": "markdown",
   "metadata": {},
   "source": [
    "> and finishing with all tweets:"
   ]
  },
  {
   "cell_type": "code",
   "execution_count": 30,
   "metadata": {
    "collapsed": true
   },
   "outputs": [],
   "source": [
    "write.table(nrcSCORES, \"NRCscores.csv\", sep=\",\")"
   ]
  },
  {
   "cell_type": "markdown",
   "metadata": {},
   "source": [
    "## Random Sampling Indicies Generation\n",
    "\n",
    "We now need to generate sets containing random indicies of elements in our data so that we can sample our data for training and testing purposes.  We will create 4 paired sets of indicies, with two pairs of sets being for training and the remaining 2 sets being for testing.  These pairs of indicies are\n",
    "* __PAIR 1 :__ Has a total size of 50,000 between the pair of sets.  The first set in the pair is for 25,000 real tweets, while the second set is for 25,000 fake tweets.  This pair of sets is for training\n",
    "* __PAIR 2 :__ Has a total size of 10,000 between the pair of sets.  The first set in the pair is for 5,000 real tweets, while the second set is for 5,000 fake tweets. This pair of sets if for training\n",
    "* __PAIR 3 :__ Has a total size of 15,000 and randomly contains any tweet in the database.  This set is for testing\n",
    "* __PAIR 4 :__ Has a total size of 5,000 and randomly contains any tweet in the database.  This set is for testing\n",
    "\n",
    "### *PAIR 1*\n",
    "\n",
    "> Seeding the RNG and generating the first pair of index sets:"
   ]
  },
  {
   "cell_type": "code",
   "execution_count": 31,
   "metadata": {
    "collapsed": true
   },
   "outputs": [],
   "source": [
    "set.seed(runif(1,1,10000))\n",
    "fakeTrainInd1 <- sample(1:nrow(fakeNRCscores), 25000)\n",
    "\n",
    "set.seed(runif(1,1,10000))\n",
    "realTrainInd1 <- sample(1:nrow(realNRCscores), 25000)"
   ]
  },
  {
   "cell_type": "markdown",
   "metadata": {},
   "source": [
    "Writing the first pair of index sets to file:"
   ]
  },
  {
   "cell_type": "code",
   "execution_count": 32,
   "metadata": {
    "collapsed": true
   },
   "outputs": [],
   "source": [
    "write.table(fakeTrainInd1, \"fakeTrainInd1d.txt\")\n",
    "\n",
    "write.table(realTrainInd1, \"realTrainInd1d.txt\")"
   ]
  },
  {
   "cell_type": "markdown",
   "metadata": {},
   "source": [
    "### PAIR 2\n",
    "\n",
    "> Seeding the RNG and generating the second pair of index sets:"
   ]
  },
  {
   "cell_type": "code",
   "execution_count": 33,
   "metadata": {
    "collapsed": true
   },
   "outputs": [],
   "source": [
    "set.seed(runif(1,1,10000))\n",
    "fakeTrainInd2 <- sample(1:nrow(fakeNRCscores), 5000)\n",
    "\n",
    "set.seed(runif(1,1,10000))\n",
    "realTrainInd2 <- sample(1:nrow(realNRCscores), 5000)"
   ]
  },
  {
   "cell_type": "markdown",
   "metadata": {},
   "source": [
    "> Writing the second pair of index sets to file:"
   ]
  },
  {
   "cell_type": "code",
   "execution_count": 34,
   "metadata": {
    "collapsed": true
   },
   "outputs": [],
   "source": [
    "write.table(fakeTrainInd2, \"fakeTrainInd2d.txt\")\n",
    "\n",
    "write.table(realTrainInd2, \"realTrainInd2d.txt\")"
   ]
  },
  {
   "cell_type": "markdown",
   "metadata": {},
   "source": [
    "### PAIR 3\n",
    "\n",
    "> Seeding the RNG and generating the first index set for testing:"
   ]
  },
  {
   "cell_type": "code",
   "execution_count": 35,
   "metadata": {
    "collapsed": true
   },
   "outputs": [],
   "source": [
    "set.seed(runif(1,1,10000))\n",
    "testInd1 <- sample(1:nrow(nrcSCORES), 15000)"
   ]
  },
  {
   "cell_type": "markdown",
   "metadata": {},
   "source": [
    "> write the first index set for testing to a file"
   ]
  },
  {
   "cell_type": "code",
   "execution_count": 36,
   "metadata": {
    "collapsed": true
   },
   "outputs": [],
   "source": [
    "write.table(testInd1, \"testInd1d.txt\")"
   ]
  },
  {
   "cell_type": "markdown",
   "metadata": {},
   "source": [
    "### PAIR 4\n",
    "\n",
    "> Seeding the RNG and generating the second index set for testing:"
   ]
  },
  {
   "cell_type": "code",
   "execution_count": 37,
   "metadata": {
    "collapsed": true
   },
   "outputs": [],
   "source": [
    "set.seed(runif(1,1,10000))\n",
    "testInd2 <- sample(1:nrow(nrcSCORES), 5000)"
   ]
  },
  {
   "cell_type": "markdown",
   "metadata": {},
   "source": [
    "> write the second index set for testing to a file"
   ]
  },
  {
   "cell_type": "code",
   "execution_count": 38,
   "metadata": {
    "collapsed": true
   },
   "outputs": [],
   "source": [
    "write.table(testInd2, \"testInd2d.txt\")"
   ]
  },
  {
   "cell_type": "markdown",
   "metadata": {},
   "source": [
    "## Export Sampled Data\n",
    "\n",
    "We can now use that previously created sampling indices to selected subsets of our overall dataset which we can then write to files.\n",
    "\n",
    "> Selecting data subsets using the first training sets:"
   ]
  },
  {
   "cell_type": "code",
   "execution_count": 39,
   "metadata": {
    "collapsed": true
   },
   "outputs": [],
   "source": [
    "fakeTrainData1 <- fakeNRCscores[fakeTrainInd1, ]\n",
    "\n",
    "realTrainData1 <- realNRCscores[realTrainInd1, ]"
   ]
  },
  {
   "cell_type": "markdown",
   "metadata": {},
   "source": [
    "> Storing these data subsets containing the first training sets, buy writing them to files:"
   ]
  },
  {
   "cell_type": "code",
   "execution_count": 40,
   "metadata": {
    "collapsed": true
   },
   "outputs": [],
   "source": [
    "write.table(fakeTrainData1, \"fakeTrainData1d.csv\", sep=\",\")\n",
    "\n",
    "write.table(realTrainData1, \"realTrainData1d.csv\", sep=\",\")"
   ]
  },
  {
   "cell_type": "markdown",
   "metadata": {},
   "source": [
    "> Selecting data subsets using the second training sets:"
   ]
  },
  {
   "cell_type": "code",
   "execution_count": 41,
   "metadata": {
    "collapsed": true
   },
   "outputs": [],
   "source": [
    "fakeTrainData2 <- fakeNRCscores[fakeTrainInd2, ]\n",
    "\n",
    "realTrainData2 <- realNRCscores[realTrainInd2, ]"
   ]
  },
  {
   "cell_type": "markdown",
   "metadata": {},
   "source": [
    "> Storing these data subsets containing the second training sets, buy writing them to files:"
   ]
  },
  {
   "cell_type": "code",
   "execution_count": 42,
   "metadata": {
    "collapsed": true
   },
   "outputs": [],
   "source": [
    "write.table(fakeTrainData2, \"fakeTrainData2d.csv\", sep=\",\")\n",
    "\n",
    "write.table(realTrainData2, \"realTrainData2d.csv\", sep=\",\")"
   ]
  },
  {
   "cell_type": "markdown",
   "metadata": {},
   "source": [
    "> Selecting data subsets using the first testing set:"
   ]
  },
  {
   "cell_type": "code",
   "execution_count": 43,
   "metadata": {
    "collapsed": true
   },
   "outputs": [],
   "source": [
    "testData1 <- nrcSCORES[testInd1, ]"
   ]
  },
  {
   "cell_type": "markdown",
   "metadata": {},
   "source": [
    "> Storing this data subset containing the first testing set, "
   ]
  },
  {
   "cell_type": "code",
   "execution_count": 44,
   "metadata": {
    "collapsed": true
   },
   "outputs": [],
   "source": [
    "write.table(testData1, \"testData1d.csv\", sep=\",\")"
   ]
  },
  {
   "cell_type": "markdown",
   "metadata": {},
   "source": [
    "> Selecting data subsets using the second testing set:"
   ]
  },
  {
   "cell_type": "code",
   "execution_count": 45,
   "metadata": {
    "collapsed": true
   },
   "outputs": [],
   "source": [
    "testData2 <- nrcSCORES[testInd2, ]"
   ]
  },
  {
   "cell_type": "markdown",
   "metadata": {},
   "source": [
    "> Storing this data subset containing the first testing set, "
   ]
  },
  {
   "cell_type": "code",
   "execution_count": 46,
   "metadata": {
    "collapsed": true
   },
   "outputs": [],
   "source": [
    "write.table(testData2, \"testData2d.csv\", sep=\",\")"
   ]
  },
  {
   "cell_type": "code",
   "execution_count": null,
   "metadata": {
    "collapsed": true
   },
   "outputs": [],
   "source": []
  }
 ],
 "metadata": {
  "kernelspec": {
   "display_name": "R",
   "language": "R",
   "name": "ir"
  },
  "language_info": {
   "codemirror_mode": "r",
   "file_extension": ".r",
   "mimetype": "text/x-r-source",
   "name": "R",
   "pygments_lexer": "r",
   "version": "3.4.2"
  }
 },
 "nbformat": 4,
 "nbformat_minor": 2
}
